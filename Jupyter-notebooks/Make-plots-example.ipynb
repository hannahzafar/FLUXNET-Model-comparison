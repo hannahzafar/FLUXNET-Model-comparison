{
 "cells": [
  {
   "cell_type": "markdown",
   "id": "ca0d74cf-6043-402e-bf32-54b8a9c3f12b",
   "metadata": {},
   "source": [
    "#### This notebook is for interactively working with FluxNet and MiCASA data for viewing and preprocessing purposes."
   ]
  },
  {
   "cell_type": "code",
   "execution_count": null,
   "id": "373c8c05-354f-4662-8da3-5d17874a8637",
   "metadata": {},
   "outputs": [],
   "source": [
    "import numpy as np\n",
    "import matplotlib as mpl\n",
    "import matplotlib.pyplot as plt\n",
    "import matplotlib.dates as mdates\n",
    "import pandas as pd\n",
    "import xarray as xr\n",
    "\n",
    "import cartopy.crs as ccrs\n",
    "import cartopy.feature as cfeature\n",
    "import datetime\n",
    "import glob\n",
    "import os"
   ]
  },
  {
   "cell_type": "markdown",
   "id": "bc12a2f4-ee76-4102-b0ef-289d42abb5da",
   "metadata": {},
   "source": [
    "## Define Variables / Import MetaData"
   ]
  },
  {
   "cell_type": "code",
   "execution_count": null,
   "id": "6b0e20ae-ce58-4b1b-a519-e878327e099f",
   "metadata": {},
   "outputs": [],
   "source": [
    "# Define misc variables\n",
    "amer_filepath = '../ameriflux-data/'\n",
    "mic_filepath = '../site-plots/preprocess-data/intermediates'\n",
    "timedelta = 'DD'"
   ]
  },
  {
   "cell_type": "code",
   "execution_count": null,
   "id": "1456bfe7-896a-4f82-861b-8cfc04d5488c",
   "metadata": {},
   "outputs": [],
   "source": [
    "# Import site metadata csv\n",
    "meta_file = amer_filepath + 'AmeriFlux-site-search-results-202410071335.tsv'\n",
    "ameriflux_meta = pd.read_csv(meta_file, sep='\\t')\n",
    "fluxnet_meta = ameriflux_meta.loc[ameriflux_meta['AmeriFlux FLUXNET Data'] == 'Yes'] #use FLUXNET only"
   ]
  },
  {
   "cell_type": "markdown",
   "id": "bdf1ee31-5d8b-4f3b-8200-2079dcea1444",
   "metadata": {},
   "source": [
    "## Functions"
   ]
  },
  {
   "cell_type": "code",
   "execution_count": null,
   "id": "e151aa22-cfbf-4bbf-be2b-d01234955683",
   "metadata": {},
   "outputs": [],
   "source": [
    "# Define a single match file location function\n",
    "def get_single_match(pattern):\n",
    "    matches = glob.glob(pattern)\n",
    "    if len(matches) == 1:\n",
    "        return matches[0]\n",
    "    elif len(matches) == 0:\n",
    "        raise ValueError(f\"No matches found\")\n",
    "    else:\n",
    "        raise ValueError(f\"Multiple matches found: {matches}\")"
   ]
  },
  {
   "cell_type": "code",
   "execution_count": null,
   "id": "ca219b02-598c-4b34-9d00-d67120eaa64d",
   "metadata": {},
   "outputs": [],
   "source": [
    "def get_fluxnet_data(site_ID):\n",
    "    # Import selected site daily subset data\n",
    "    # site_lat = fluxnet_meta.loc[fluxnet_meta['Site ID'] == site_ID, 'Latitude (degrees)'].values\n",
    "    # site_lon = fluxnet_meta.loc[fluxnet_meta['Site ID'] == site_ID, 'Longitude (degrees)'].values\n",
    "    sel_file = get_single_match(amer_filepath + 'AMF_' + site_ID + '_FLUXNET_SUBSET_*/AMF_' + site_ID + '_FLUXNET_SUBSET_' + timedelta + '_*.csv')\n",
    "    fluxnet_sel = pd.read_csv(sel_file)\n",
    "\n",
    "    # select subset of columns + convert to datetime objects    \n",
    "    fluxnet_sel_sub = fluxnet_sel.loc[:,['TIMESTAMP','NEE_VUT_REF','NEE_VUT_REF_QC','GPP_NT_VUT_REF', 'GPP_DT_VUT_REF']].copy()\n",
    "    fluxnet_sel_sub['TIMESTAMP'] = pd.to_datetime(fluxnet_sel_sub['TIMESTAMP'],format='%Y%m%d')\n",
    "    fluxnet_sel_sub = fluxnet_sel_sub.set_index('TIMESTAMP')\n",
    "    \n",
    "    # Make a clean output df\n",
    "    fluxnet_final = pd.DataFrame()\n",
    "    \n",
    "    # NEE\n",
    "    ## Convert units\n",
    "    ## FluxNet NEE_VUT_REF in DD (gC m-2 d-1) to MiCASA (kgC m-2 s-1)\n",
    "    fluxnet_final['NEE (kgC m-2 s-1)'] = fluxnet_sel_sub['NEE_VUT_REF']*1e-3/86400\n",
    "    \n",
    "    # GPP\n",
    "    ## FluxNet GPP in DD (gC m-2 d-1) to MiCASA (kgC m-2 s-1)\n",
    "    fluxnet_final['GPP (DT) (kgC m-2 s-1)'] = fluxnet_sel_sub['GPP_DT_VUT_REF']*1e-3/86400\n",
    "    fluxnet_final['GPP (NT) (kgC m-2 s-1)'] = fluxnet_sel_sub['GPP_NT_VUT_REF']*1e-3/86400\n",
    "    \n",
    "    ## Mask bad QC values for NEE and GPP\n",
    "    ## for daily FluxNet data, QC is fraction between 0-1, indicating percentage of measured and good quality gapfill data\n",
    "    fluxnet_final['NEE (kgC m-2 s-1)'] = fluxnet_final['NEE (kgC m-2 s-1)'].mask(fluxnet_sel_sub['NEE_VUT_REF_QC'] < 1, np.nan)\n",
    "    fluxnet_final['GPP (DT) (kgC m-2 s-1)'] = fluxnet_final['GPP (DT) (kgC m-2 s-1)'].mask(fluxnet_sel_sub['NEE_VUT_REF_QC'] < 1, np.nan)\n",
    "    fluxnet_final['GPP (NT) (kgC m-2 s-1)'] = fluxnet_final['GPP (NT) (kgC m-2 s-1)'].mask(fluxnet_sel_sub['NEE_VUT_REF_QC'] < 1, np.nan)\n",
    "    \n",
    "    # Carry QC values into final \n",
    "    fluxnet_final['NEE_VUT_REF_QC'] = fluxnet_sel_sub['NEE_VUT_REF_QC'] \n",
    "    \n",
    "    return fluxnet_final"
   ]
  },
  {
   "cell_type": "code",
   "execution_count": null,
   "id": "7baf3f9b-0a4b-492c-8b8c-f1e4795f27dc",
   "metadata": {},
   "outputs": [],
   "source": [
    "def replace_outliers_with_nan(df, column):\n",
    "    \"\"\"Replaces outliers in a DataFrame column with NaN.\n",
    "\n",
    "    Args:\n",
    "        df (pd.DataFrame): The DataFrame.\n",
    "        column (str): The column name to check for outliers.\n",
    "\n",
    "    Returns:\n",
    "        pd.DataFrame: The DataFrame with outliers replaced by NaN.\n",
    "    \"\"\"\n",
    "    Q1 = df[column].quantile(0.25)\n",
    "    Q3 = df[column].quantile(0.75)\n",
    "    IQR = Q3 - Q1\n",
    "\n",
    "    lower_bound = Q1 - 1.5 * IQR\n",
    "    upper_bound = Q3 + 1.5 * IQR\n",
    "\n",
    "    df[column] = df[column].mask((df[column] < lower_bound) | (df[column] > upper_bound), np.nan)\n",
    "    return df"
   ]
  },
  {
   "cell_type": "markdown",
   "id": "8b8f3e50-d0b6-4e01-a2cf-d7dc6369f14f",
   "metadata": {},
   "source": [
    "## Import FluxNet Data"
   ]
  },
  {
   "cell_type": "code",
   "execution_count": null,
   "id": "79dd2dbe-7709-4407-9fd9-d1e1f70d8f31",
   "metadata": {},
   "outputs": [],
   "source": [
    "# Define site ID\n",
    "# site_ID = 'CA-MA1'\n",
    "# site_ID = 'CA-DBB'\n",
    "# site_ID = 'CA-LP1'\n",
    "# site_ID = 'AR-TF1'\n",
    "site_ID = 'BR-CST'"
   ]
  },
  {
   "cell_type": "code",
   "execution_count": null,
   "id": "c5d11f7a-58c4-4c00-a383-5c71f6a89a2a",
   "metadata": {},
   "outputs": [],
   "source": [
    "fluxnet_final = get_fluxnet_data(site_ID)\n",
    "fluxnet_final_clean = replace_outliers_with_nan(fluxnet_final,'GPP (DT) (kgC m-2 s-1)')"
   ]
  },
  {
   "cell_type": "markdown",
   "id": "f1417c40-afb5-4f3e-b8e0-bbaf9e8cedda",
   "metadata": {},
   "source": [
    "# Import MiCASA data"
   ]
  },
  {
   "cell_type": "code",
   "execution_count": null,
   "id": "f3762bda-4491-41f3-b1f8-6cba870bf47b",
   "metadata": {},
   "outputs": [],
   "source": [
    "# Import simplified MiCASA from data-extract.py"
   ]
  },
  {
   "cell_type": "code",
   "execution_count": null,
   "id": "284c2ebf-6e6f-487a-916f-1b29f44645f7",
   "metadata": {},
   "outputs": [],
   "source": [
    "# Import single variable at a time\n",
    "# micasa_ds = pd.DataFrame()\n",
    "# for variable in ['NEE', 'NPP']:\n",
    "#     filename = f'{site_ID}_micasa_{variable}_{timedelta}.csv'\n",
    "#     path = os.path.join(mic_filepath, filename)\n",
    "#     ds = pd.read_csv(path,index_col=0, parse_dates=True)\n",
    "#     varname = variable + ' (kgC m-2 s-1)'\n",
    "#     micasa_ds[varname] = ds"
   ]
  },
  {
   "cell_type": "code",
   "execution_count": null,
   "id": "93ab4fe9-8d8e-42c2-b224-e3f8562a5d82",
   "metadata": {},
   "outputs": [],
   "source": [
    "# Import summary file of all variables\n",
    "filename = f'{site_ID}_micasa_{timedelta}.csv'\n",
    "path = os.path.join(mic_filepath, filename)\n",
    "micasa_ds = pd.read_csv(path,index_col=0,parse_dates=True)\n",
    "micasa_ds"
   ]
  },
  {
   "cell_type": "markdown",
   "id": "38a23092-4808-4a3f-9032-898ab5fd3df8",
   "metadata": {},
   "source": [
    "## Append like datasets "
   ]
  },
  {
   "cell_type": "code",
   "execution_count": null,
   "id": "d6b65b33-f8f3-400c-804d-9c8c25c9b9e1",
   "metadata": {},
   "outputs": [],
   "source": [
    "# NEE\n",
    "NEE_ds = pd.DataFrame()\n",
    "NEE_ds['MiCASA'] = micasa_ds['MiCASA NEE (kg m-2 s-1)']\n",
    "NEE_ds['FluxNet'] = fluxnet_final['NEE (kgC m-2 s-1)']"
   ]
  },
  {
   "cell_type": "code",
   "execution_count": null,
   "id": "144e70d1-7e64-4586-820d-c9fcf065f9ad",
   "metadata": {},
   "outputs": [],
   "source": [
    "# NPP\n",
    "NPP_ds = pd.DataFrame()\n",
    "NPP_ds['MiCASA'] = micasa_ds['MiCASA NPP (kg m-2 s-1)']\n",
    "NPP_ds['FluxNet DT GPP/2'] = fluxnet_final['GPP (DT) (kgC m-2 s-1)']/2"
   ]
  },
  {
   "cell_type": "markdown",
   "id": "7db30451-7507-4370-b79e-7873b34eeb35",
   "metadata": {},
   "source": [
    "## Display Site Info"
   ]
  },
  {
   "cell_type": "code",
   "execution_count": null,
   "id": "5db9a9db-a135-456a-8bb3-46df5e23c0b9",
   "metadata": {},
   "outputs": [],
   "source": [
    "# Define subset site info to display\n",
    "site_subset = ['Site ID', \n",
    "                'Name', \n",
    "                'Vegetation Description (IGBP)', \n",
    "                'Climate Class Description (Koeppen)', \n",
    "                'Elevation (m)',\n",
    "                'Years of AmeriFlux FLUXNET Data']"
   ]
  },
  {
   "cell_type": "code",
   "execution_count": null,
   "id": "26e83b3a-74dc-4e98-be5b-4caa11d4f8b8",
   "metadata": {},
   "outputs": [],
   "source": [
    "site_sel = ameriflux_meta.loc[ameriflux_meta['Site ID'] == site_ID][site_subset]\n",
    "with pd.option_context('display.max_colwidth', None):\n",
    "  display(site_sel)"
   ]
  },
  {
   "cell_type": "markdown",
   "id": "bc0120e5-3819-41d5-9093-3ba6356d7982",
   "metadata": {},
   "source": [
    "## Create final static plots"
   ]
  },
  {
   "cell_type": "code",
   "execution_count": null,
   "id": "128a6772-94ae-4588-9e8f-60a51a2bfcd2",
   "metadata": {},
   "outputs": [],
   "source": [
    "# Create a subplot grid with specific width ratios\n",
    "fig, axs = plt.subplots(4, 1, \n",
    "                         gridspec_kw={'height_ratios': [1, 2,0.25,2],\n",
    "                                      'hspace': 0.01},\n",
    "                         figsize=(10, 12)) \n",
    "\n",
    "# Define the map projection\n",
    "proj = ccrs.PlateCarree()\n",
    "\n",
    "site_lat = ameriflux_meta.loc[ameriflux_meta['Site ID'] == site_ID, 'Latitude (degrees)'].values\n",
    "site_lon = ameriflux_meta.loc[ameriflux_meta['Site ID'] == site_ID, 'Longitude (degrees)'].values\n",
    "\n",
    "if site_lat >= 20:\n",
    "    # North America extents\n",
    "    min_lon, max_lon = -170, -57\n",
    "    min_lat, max_lat = 25, 74\n",
    "\n",
    "else:\n",
    "    # South America extents\n",
    "    min_lon, max_lon = -90, -30\n",
    "    min_lat, max_lat = -60, 12\n",
    "axs[0].axis('off')\n",
    "axs[0] = plt.subplot(4, 1, 1, projection=proj,frameon=False)\n",
    "axs[0].set_extent([min_lon, max_lon, min_lat, max_lat], crs=ccrs.PlateCarree())\n",
    "# axs[0].add_feature(cfeature.STATES)\n",
    "# axs[0].add_feature(cfeature.BORDERS)\n",
    "axs[0].coastlines()\n",
    "\n",
    "axs[0].scatter(site_lon,site_lat,\n",
    "       marker='*', \n",
    "       s=500,\n",
    "       color='yellow',\n",
    "       edgecolor='black',\n",
    "               zorder=3)\n",
    "\n",
    "NEE_ds.plot(ax=axs[1],ylabel = 'NEE\\n(kgC m$^{-2}$ s$^{-1}$)')\n",
    "# Set pretty date labels\n",
    "axs[1].xaxis.set_major_locator(mdates.AutoDateLocator())\n",
    "# Disable minor ticks completely\n",
    "axs[1].tick_params(axis='x', which='minor', labelsize=0, labelcolor='none')\n",
    "# axs[1].xaxis.set_major_formatter(mdates.ConciseDateFormatter(axs[3].xaxis.get_major_locator()))\n",
    "\n",
    "axs[2].set_visible(False)\n",
    "\n",
    "NPP_ds.plot(ax=axs[3],ylabel = 'NPP\\n(kgC m$^{-2}$ s$^{-1}$)')\n",
    "# Set pretty date labels\n",
    "axs[3].xaxis.set_major_locator(mdates.AutoDateLocator())\n",
    "# Disable minor ticks completely\n",
    "axs[3].tick_params(axis='x', which='minor', labelsize=0, labelcolor='none')\n",
    "\n",
    "\n",
    "\n",
    "date_format = mdates.DateFormatter('%b %Y')\n",
    "for i in range(1,4,2):\n",
    "    axs[i].xaxis.set_major_formatter(date_format)\n",
    "    axs[i].set_xlabel('') \n",
    "fig.suptitle(f'{site_ID}',y=0.9,fontsize=14)"
   ]
  }
 ],
 "metadata": {
  "kernelspec": {
   "display_name": "fluxnet-model-comparison",
   "language": "python",
   "name": "fluxnet-model-comparison"
  },
  "language_info": {
   "codemirror_mode": {
    "name": "ipython",
    "version": 3
   },
   "file_extension": ".py",
   "mimetype": "text/x-python",
   "name": "python",
   "nbconvert_exporter": "python",
   "pygments_lexer": "ipython3",
   "version": "3.12.11"
  }
 },
 "nbformat": 4,
 "nbformat_minor": 5
}
