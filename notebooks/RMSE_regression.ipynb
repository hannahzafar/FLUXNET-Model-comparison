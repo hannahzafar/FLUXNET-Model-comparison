{
 "cells": [
  {
   "cell_type": "markdown",
   "id": "bc12a2f4-ee76-4102-b0ef-289d42abb5da",
   "metadata": {},
   "source": [
    "## Define Variables / Import MetaData"
   ]
  },
  {
   "cell_type": "code",
   "execution_count": null,
   "id": "1b80861a-5117-4e9b-818a-81018bff7057",
   "metadata": {},
   "outputs": [],
   "source": [
    "import os\n",
    "import sys\n",
    "from pathlib import Path"
   ]
  },
  {
   "cell_type": "code",
   "execution_count": null,
   "id": "373c8c05-354f-4662-8da3-5d17874a8637",
   "metadata": {},
   "outputs": [],
   "source": [
    "import numpy as np\n",
    "import matplotlib.pyplot as plt\n",
    "import pandas as pd\n",
    "from sklearn.metrics import root_mean_squared_error\n",
    "from sklearn.metrics import r2_score"
   ]
  },
  {
   "cell_type": "code",
   "execution_count": null,
   "id": "247b1b88-acac-4bd5-aef3-c5024f43a42f",
   "metadata": {},
   "outputs": [],
   "source": [
    "parent_dir = os.path.abspath(os.path.join(os.getcwd(), '..'))\n",
    "if parent_dir not in sys.path:\n",
    "    sys.path.append(parent_dir)"
   ]
  },
  {
   "cell_type": "code",
   "execution_count": null,
   "id": "75307faa-1b40-4fbe-9b54-8be0d41ce292",
   "metadata": {},
   "outputs": [],
   "source": [
    "from utils.functions import import_flux_metadata, import_site_RMSE_data, polyfit1d_and_plot"
   ]
  },
  {
   "cell_type": "code",
   "execution_count": null,
   "id": "96e43f33-74dd-4264-8544-62cd942648a3",
   "metadata": {},
   "outputs": [],
   "source": [
    "from config import FLUX_DATA_PATH, FLUX_METADATA, MICASA_PREPROCESSED_DATA"
   ]
  },
  {
   "cell_type": "code",
   "execution_count": null,
   "id": "1456bfe7-896a-4f82-861b-8cfc04d5488c",
   "metadata": {},
   "outputs": [],
   "source": [
    "fluxnet_meta = import_flux_metadata(FLUX_METADATA)"
   ]
  },
  {
   "cell_type": "markdown",
   "id": "2e00b140-daaa-40dc-9984-2d97074d3be9",
   "metadata": {},
   "source": [
    "### Climate Classes"
   ]
  },
  {
   "cell_type": "code",
   "execution_count": null,
   "id": "0078b26d-8cc0-46cd-bfcc-cf861f401e07",
   "metadata": {},
   "outputs": [],
   "source": [
    "fluxnet_meta.columns.tolist()"
   ]
  },
  {
   "cell_type": "code",
   "execution_count": null,
   "id": "c945eb78-b2b9-481b-b4c9-688904fe9a5e",
   "metadata": {},
   "outputs": [],
   "source": [
    "climate_vars = fluxnet_meta.columns.tolist()[8:10]\n",
    "pd.set_option('display.max_colwidth', 100) \n",
    "fluxnet_meta[climate_vars].drop_duplicates().set_index(climate_vars[0])"
   ]
  },
  {
   "cell_type": "markdown",
   "id": "db524c12-7a7a-4cd6-acc6-c3d68e900b07",
   "metadata": {},
   "source": [
    "# Plot Percent NAN vs RMSE"
   ]
  },
  {
   "cell_type": "code",
   "execution_count": null,
   "id": "1f2bc50a-e5a4-46e1-889b-82f2baace61a",
   "metadata": {},
   "outputs": [],
   "source": [
    "nan_results = pd.read_csv('../analysis/nan_results.csv',index_col='SiteID')\n",
    "nan_results"
   ]
  },
  {
   "cell_type": "markdown",
   "id": "cdba0861-f951-4f8d-9ffa-1c95235b1802",
   "metadata": {},
   "source": [
    "## Annual"
   ]
  },
  {
   "cell_type": "code",
   "execution_count": null,
   "id": "e3d653e0-a462-41eb-b748-6703465d0077",
   "metadata": {},
   "outputs": [],
   "source": [
    "df_ANN = import_site_RMSE_data(FLUX_METADATA, '../analysis/RMSE_results_ANN.csv')\n",
    "df_ANN"
   ]
  },
  {
   "cell_type": "code",
   "execution_count": null,
   "id": "271e4346-cf25-49f1-8cca-09a78a3b0675",
   "metadata": {},
   "outputs": [],
   "source": [
    "# Import and merge NaN results\n",
    "df_ANN = df_ANN.join(nan_results, on='Site ID',how=\"inner\")\n",
    "df_ANN"
   ]
  },
  {
   "cell_type": "code",
   "execution_count": null,
   "id": "00d3f453-5983-4b3b-821d-1be7585fbc50",
   "metadata": {},
   "outputs": [],
   "source": [
    "xlabel = \"Percent (%) NaN values\""
   ]
  },
  {
   "cell_type": "code",
   "execution_count": null,
   "id": "39d5e347-3fa7-4745-a146-2dbac99d195c",
   "metadata": {},
   "outputs": [],
   "source": [
    "polyfit1d_and_plot(df_ANN, \"NEE_pct_nan\", \"NEE_RMSE\", xlabel, \"NEE (Annual)\");"
   ]
  },
  {
   "cell_type": "code",
   "execution_count": null,
   "id": "db07e09a-f699-4c99-8264-d17235ab4d4f",
   "metadata": {},
   "outputs": [],
   "source": [
    "polyfit1d_and_plot(df_ANN, \"GPP_pct_nan\", \"NPP_RMSE\", xlabel, \"NPP (Annual)\");"
   ]
  },
  {
   "cell_type": "code",
   "execution_count": null,
   "id": "59fb31ba-094e-4d8e-8c71-01ef2fd095d4",
   "metadata": {},
   "outputs": [],
   "source": [
    "# Drop two outliers\n",
    "df_ANN_dropped = df_ANN[[\"NPP_RMSE\", \"GPP_pct_nan\"]].copy()\n",
    "df_ANN_dropped = df_ANN_dropped[df_ANN_dropped[\"NPP_RMSE\"]<2.5e-5]\n",
    "df_ANN_dropped.count()"
   ]
  },
  {
   "cell_type": "code",
   "execution_count": null,
   "id": "d39c7a7d-e188-4a2e-9c69-5960dc841b71",
   "metadata": {},
   "outputs": [],
   "source": [
    "polyfit1d_and_plot(df_ANN_dropped, \"GPP_pct_nan\", \"NPP_RMSE\", xlabel, \"NPP/GPP (Annual), outliers dropped\");"
   ]
  },
  {
   "cell_type": "markdown",
   "id": "6ef2eb18-88fb-4c36-bf2a-485883689f36",
   "metadata": {},
   "source": [
    "# Growing Season Results"
   ]
  },
  {
   "cell_type": "code",
   "execution_count": null,
   "id": "6b63dd0a-33a8-40ef-9785-bf6191a31b57",
   "metadata": {},
   "outputs": [],
   "source": [
    "df_GRW = import_site_RMSE_data(FLUX_METADATA, '../analysis/RMSE_results_GRW.csv')\n",
    "df_GRW = df_GRW.join(nan_results, on='Site ID', how=\"inner\")\n",
    "df_GRW"
   ]
  },
  {
   "cell_type": "code",
   "execution_count": null,
   "id": "d084246b-fd0c-4362-a3a9-f5e08e900ef4",
   "metadata": {},
   "outputs": [],
   "source": [
    "# Import and merge results\n",
    "# RMSE_results_GRW = pd.read_csv('../analysis/RMSE_results_GRW.csv',index_col='SiteID')\n",
    "# df_GRW = df_meta.join(RMSE_results_GRW, on='Site ID', how=\"inner\")"
   ]
  },
  {
   "cell_type": "code",
   "execution_count": null,
   "id": "f3a86d9a-ed5d-4510-bf11-1b0079a225f0",
   "metadata": {},
   "outputs": [],
   "source": [
    "df_GRW"
   ]
  },
  {
   "cell_type": "code",
   "execution_count": null,
   "id": "1a812182-fc23-4ac2-999f-ac3d1cc59e2e",
   "metadata": {},
   "outputs": [],
   "source": [
    "polyfit1d_and_plot(df_GRW, \"NEE_pct_nan\", \"NEE_RMSE\", xlabel, \"NEE (Growing)\");"
   ]
  },
  {
   "cell_type": "code",
   "execution_count": null,
   "id": "b5ef829e-4a36-425b-8419-4e0393b786ca",
   "metadata": {},
   "outputs": [],
   "source": [
    "any(df_GRW[\"GPP_pct_nan\"].isna()), any(df_GRW[\"NPP_RMSE\"].isna())"
   ]
  },
  {
   "cell_type": "code",
   "execution_count": null,
   "id": "eba9ab03-3e42-45ad-8385-0dfe1872594e",
   "metadata": {},
   "outputs": [],
   "source": [
    "df_GRW = df_GRW.dropna()"
   ]
  },
  {
   "cell_type": "code",
   "execution_count": null,
   "id": "de29e68a-ad9f-4dfb-a206-23886a119bce",
   "metadata": {
    "scrolled": true
   },
   "outputs": [],
   "source": [
    "polyfit1d_and_plot(df_GRW, \"GPP_pct_nan\", \"NPP_RMSE\", xlabel, \"NPP (Growing)\");\n",
    "# This puts an error out - I need to drop the NANs I guess"
   ]
  },
  {
   "cell_type": "code",
   "execution_count": null,
   "id": "7349f0f3-cec2-4c99-8f0f-bc683b1faaaa",
   "metadata": {},
   "outputs": [],
   "source": [
    "df_GRW_dropped = df_GRW[[\"NPP_RMSE\", \"GPP_pct_nan\"]].copy()\n",
    "df_GRW_dropped = df_GRW_dropped[df_GRW_dropped[\"NPP_RMSE\"]<2.5e-5]"
   ]
  },
  {
   "cell_type": "code",
   "execution_count": null,
   "id": "67ebb13e-6dda-4176-8ef7-c426406dc5a9",
   "metadata": {
    "scrolled": true
   },
   "outputs": [],
   "source": [
    "polyfit1d_and_plot(df_GRW_dropped, \"GPP_pct_nan\", \"NPP_RMSE\", xlabel, \"NPP (Growing), outliers dropped\");"
   ]
  }
 ],
 "metadata": {
  "kernelspec": {
   "display_name": "notebooks",
   "language": "python",
   "name": "notebooks"
  },
  "language_info": {
   "codemirror_mode": {
    "name": "ipython",
    "version": 3
   },
   "file_extension": ".py",
   "mimetype": "text/x-python",
   "name": "python",
   "nbconvert_exporter": "python",
   "pygments_lexer": "ipython3",
   "version": "3.12.11"
  }
 },
 "nbformat": 4,
 "nbformat_minor": 5
}
