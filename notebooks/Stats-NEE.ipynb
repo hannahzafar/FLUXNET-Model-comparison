{
 "cells": [
  {
   "cell_type": "markdown",
   "id": "bc12a2f4-ee76-4102-b0ef-289d42abb5da",
   "metadata": {},
   "source": [
    "## Define Variables / Import MetaData"
   ]
  },
  {
   "cell_type": "code",
   "execution_count": null,
   "id": "373c8c05-354f-4662-8da3-5d17874a8637",
   "metadata": {},
   "outputs": [],
   "source": [
    "import numpy as np\n",
    "import matplotlib.pyplot as plt\n",
    "import matplotlib.colors as colors\n",
    "from cartopy import crs as ccrs \n",
    "import cartopy.feature as cfeature\n",
    "import pandas as pd\n",
    "import hvplot.pandas\n",
    "import xarray as xr\n",
    "import hvplot.xarray\n",
    "import geoviews.feature as gf"
   ]
  },
  {
   "cell_type": "code",
   "execution_count": null,
   "id": "6b0e20ae-ce58-4b1b-a519-e878327e099f",
   "metadata": {},
   "outputs": [],
   "source": [
    "# Define misc variables \n",
    "# I can't get the config.py to work in jupyternotebook because it does not know where $NOBACKUP is\n",
    "amer_filepath = '../../ameriflux-data/'\n",
    "mic_filepath = '../intermediates/'"
   ]
  },
  {
   "cell_type": "code",
   "execution_count": null,
   "id": "1456bfe7-896a-4f82-861b-8cfc04d5488c",
   "metadata": {},
   "outputs": [],
   "source": [
    "# Import site metadata csv\n",
    "meta_file = amer_filepath + 'AmeriFlux-site-search-results-202410071335.tsv'\n",
    "ameriflux_meta = pd.read_csv(meta_file, sep='\\t')\n",
    "fluxnet_meta = ameriflux_meta.loc[ameriflux_meta['AmeriFlux FLUXNET Data'] == 'Yes'] "
   ]
  },
  {
   "cell_type": "code",
   "execution_count": null,
   "id": "b8592b63-873b-4f4f-8b20-30378804cd76",
   "metadata": {},
   "outputs": [],
   "source": [
    "# set map proj\n",
    "proj=ccrs.PlateCarree()"
   ]
  },
  {
   "cell_type": "markdown",
   "id": "b4066eb5-6755-4fbc-b170-14dbb0afa160",
   "metadata": {},
   "source": [
    "## Import metadata and RSME values for NEE"
   ]
  },
  {
   "cell_type": "code",
   "execution_count": null,
   "id": "b70b6f23-4783-4e29-ab13-a3c38f45199f",
   "metadata": {},
   "outputs": [],
   "source": [
    "# Create df with lat/lons\n",
    "site_subset = ['Site ID', \n",
    "               'Longitude (degrees)',\n",
    "                'Latitude (degrees)',\n",
    "               ]\n",
    "df_meta = fluxnet_meta[site_subset]\n",
    "df_meta.set_index('Site ID');"
   ]
  },
  {
   "cell_type": "code",
   "execution_count": null,
   "id": "1917a09f-6d84-4c12-8f62-cbf5ba75dc6e",
   "metadata": {},
   "outputs": [],
   "source": [
    "value='NEE_RSME'"
   ]
  },
  {
   "cell_type": "code",
   "execution_count": null,
   "id": "5bc8d8ae-515c-4623-b0f5-e58d2f4090d2",
   "metadata": {},
   "outputs": [],
   "source": [
    "# Import and merge results\n",
    "results = pd.read_csv('../analysis/results.csv',index_col='SiteID')[value]"
   ]
  },
  {
   "cell_type": "code",
   "execution_count": null,
   "id": "7550df2d-dfff-47d9-90f8-5771d35203fe",
   "metadata": {},
   "outputs": [],
   "source": [
    "df = df_meta.join(results, on='Site ID')\n",
    "df = df.rename(columns={'Latitude (degrees)': 'lat', 'Longitude (degrees)': 'lon'})\n",
    "df"
   ]
  },
  {
   "cell_type": "markdown",
   "id": "547d69d8-3ca8-4fb6-9354-1a753d9b427a",
   "metadata": {},
   "source": [
    "### Subset North America"
   ]
  },
  {
   "cell_type": "code",
   "execution_count": null,
   "id": "11c14f9f-013b-4fe3-b4e8-4497c4bcfe7d",
   "metadata": {},
   "outputs": [],
   "source": [
    "NA_mask = (df['lat']>=0)\n",
    "df = df[NA_mask]"
   ]
  },
  {
   "cell_type": "code",
   "execution_count": null,
   "id": "29e06d12-6d3c-40d1-bd3a-410487319d91",
   "metadata": {},
   "outputs": [],
   "source": [
    "df"
   ]
  },
  {
   "cell_type": "markdown",
   "id": "1a2f608c-1739-4d27-8b93-e463673a37c9",
   "metadata": {},
   "source": [
    "### Xarray Matplotlib View"
   ]
  },
  {
   "cell_type": "code",
   "execution_count": null,
   "id": "62d0660d-f278-4c8a-8770-7a77786a9181",
   "metadata": {},
   "outputs": [],
   "source": [
    "ds = xr.Dataset(\n",
    "    coords={\n",
    "        'site_id': df['Site ID'].values,\n",
    "        'lat': ('site_id', df['lat'].values),\n",
    "        'lon': ('site_id', df['lon'].values),\n",
    "    }, \n",
    "    data_vars={\n",
    "        value: (\"site_id\", df[value].values),\n",
    "    }\n",
    ")\n",
    "ds"
   ]
  },
  {
   "cell_type": "code",
   "execution_count": null,
   "id": "0c82418e-49df-42cb-b2ad-d23a7a9825cd",
   "metadata": {},
   "outputs": [],
   "source": [
    "import cartopy\n",
    "print(cartopy.config['data_dir'])\n"
   ]
  },
  {
   "cell_type": "code",
   "execution_count": null,
   "id": "75dc1f79-b859-4560-8ee1-e8ac420e7f6f",
   "metadata": {},
   "outputs": [],
   "source": [
    "fig, ax = plt.subplots(1,1,figsize=(10,8), subplot_kw={'projection': proj}, constrained_layout=True);\n",
    "ax.add_feature(cfeature.LAND,\n",
    "               edgecolor='lightgrey',facecolor='none',\n",
    "               zorder=0\n",
    "              )\n",
    "ax.add_feature(cfeature.STATES,edgecolor='lightgrey', zorder=0)\n",
    "\n",
    "plot = ds.plot.scatter(x=\"lon\", y=\"lat\",ax=ax,\n",
    "                       s=40,\n",
    "                       markersize=value, edgecolor='none',add_legend=False,\n",
    "                        norm=colors.LogNorm(), \n",
    "                       hue=value,\n",
    "                       cmap='autumn_r',\n",
    "                       # cmap='cool',\n",
    "                       add_colorbar=False\n",
    "                      )\n",
    "\n",
    "cbar = fig.colorbar(plot, ax=ax, shrink=0.9, label=value[4:], orientation='horizontal')\n",
    "ax.set_title('NEE RSME (North America Only)')\n",
    "plt.show()"
   ]
  },
  {
   "cell_type": "markdown",
   "id": "20e627b3-06cc-417d-b8d0-fb52d035ef2d",
   "metadata": {},
   "source": [
    "## Select RSME>10-7"
   ]
  },
  {
   "cell_type": "code",
   "execution_count": null,
   "id": "ce0d192b-289e-4f94-a6de-410361d3a3af",
   "metadata": {},
   "outputs": [],
   "source": [
    "ds_sel = ds.where(ds[value]>10**-7,drop=True)\n",
    "ds_sel"
   ]
  },
  {
   "cell_type": "code",
   "execution_count": null,
   "id": "d9b33412-11a5-4969-a02d-35f0358996f9",
   "metadata": {},
   "outputs": [],
   "source": [
    "from adjustText import adjust_text"
   ]
  },
  {
   "cell_type": "code",
   "execution_count": null,
   "id": "8da4147d-8607-412a-b49a-ee8977e2a802",
   "metadata": {},
   "outputs": [],
   "source": [
    "fig, ax = plt.subplots(1,1,figsize=(10,8), subplot_kw={'projection': proj}, constrained_layout=True);\n",
    "ax.add_feature(cfeature.LAND,\n",
    "               edgecolor='lightgrey',facecolor='none',\n",
    "               zorder=0\n",
    "              )\n",
    "ax.add_feature(cfeature.STATES,edgecolor='lightgrey', zorder=0)\n",
    "\n",
    "plot = ds_sel.plot.scatter(x=\"lon\", y=\"lat\",\n",
    "                           ax=ax,\n",
    "                           s=40,\n",
    "                           edgecolor='black',add_legend=False,\n",
    "                        # norm=colors.LogNorm(),  \n",
    "                       hue=value,\n",
    "                       cmap='autumn_r',\n",
    "                       add_colorbar=False\n",
    "                      )\n",
    "\n",
    "texts = []\n",
    "for i in range(len(ds_sel.site_id)):\n",
    "    txt = ax.annotate(ds_sel.site_id.values[i], \n",
    "                (ds_sel.lon.values[i], ds_sel.lat.values[i]),\n",
    "                transform=proj,\n",
    "                fontsize=12)\n",
    "    texts.append(txt)\n",
    "adjust_text(texts, ax=ax)\n",
    "\n",
    "cbar = fig.colorbar(plot, ax=ax, shrink=0.9, label=value[4:], orientation='horizontal')\n",
    "# ax.set_title(value)\n",
    "fig.suptitle('NEE RSME values Higher Than $10^{-7}$', y=0.85)\n",
    "plt.show()"
   ]
  },
  {
   "cell_type": "code",
   "execution_count": null,
   "id": "86612b4f-7854-4faa-a961-ccdda9e9c399",
   "metadata": {},
   "outputs": [],
   "source": [
    "# ds_sel.site_id.values.tolist()"
   ]
  },
  {
   "cell_type": "code",
   "execution_count": null,
   "id": "5ded1bb4-dadd-4e87-9728-e0568777d13c",
   "metadata": {},
   "outputs": [],
   "source": [
    "# df_sel = df[df[value]>=10**-7]"
   ]
  },
  {
   "cell_type": "code",
   "execution_count": null,
   "id": "5a9790b0-7d61-4744-bade-1b9b560663ce",
   "metadata": {},
   "outputs": [],
   "source": [
    "# df_sel"
   ]
  },
  {
   "cell_type": "code",
   "execution_count": null,
   "id": "96997277-508d-4139-a5a3-66f07ff34ee7",
   "metadata": {},
   "outputs": [],
   "source": [
    "# def output_range(pd_series):\n",
    "#     return pd_series.min()-5, pd_series.max()+5"
   ]
  },
  {
   "cell_type": "code",
   "execution_count": null,
   "id": "fb3c2a60-91ec-4c83-b6f5-893a8abc68c7",
   "metadata": {},
   "outputs": [],
   "source": [
    "# min_lon, max_lon = output_range(df[\"lon\"])\n",
    "# min_lat, max_lat = output_range(df[\"lat\"])"
   ]
  },
  {
   "cell_type": "code",
   "execution_count": null,
   "id": "63968f61-c3ee-4806-a0b5-64513c43b7bf",
   "metadata": {},
   "outputs": [],
   "source": [
    "# df_sel.hvplot.points(x=\"lon\", \n",
    "#                 y=\"lat\",\n",
    "#                 geo=True, \n",
    "#                 # crs=ccrs.PlateCarree(),\n",
    "\n",
    "#                 c=value,\n",
    "#                 logz=True,\n",
    "#                 cmap='autumn_r',\n",
    "#                 clabel=f'{value}',\n",
    "\n",
    "#                  size=45,\n",
    "#                  # Size values don't scale logarithmically\n",
    "#                 # s=values[0],\n",
    "#                 # scale=4500,\n",
    "#                  # color='red',\n",
    "                \n",
    "#                 tiles=True,\n",
    "#                 tiles_opts={'alpha': 0.4},\n",
    "#                 # tiles=xyz.Esri.WorldGrayCanvas,\n",
    "\n",
    "\n",
    "#                 hover_cols=['Site ID'],\n",
    "\n",
    "#                 # # width=700, height=500,\n",
    "#                 # xlim=(min_lon, max_lon),   # longitude range\n",
    "#                 # ylim=(min_lat, max_lat),     # latitude range\n",
    "#                 # frame_width=800,\n",
    "#                 frame_height=700\n",
    "#                                    )"
   ]
  },
  {
   "cell_type": "code",
   "execution_count": null,
   "id": "0a1cedad-cf63-4cad-9ea2-9f0eeb2eee92",
   "metadata": {},
   "outputs": [],
   "source": []
  }
 ],
 "metadata": {
  "kernelspec": {
   "display_name": "notebooks",
   "language": "python",
   "name": "notebooks"
  },
  "language_info": {
   "codemirror_mode": {
    "name": "ipython",
    "version": 3
   },
   "file_extension": ".py",
   "mimetype": "text/x-python",
   "name": "python",
   "nbconvert_exporter": "python",
   "pygments_lexer": "ipython3",
   "version": "3.12.11"
  }
 },
 "nbformat": 4,
 "nbformat_minor": 5
}
