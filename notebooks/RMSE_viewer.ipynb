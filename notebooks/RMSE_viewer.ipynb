{
 "cells": [
  {
   "cell_type": "markdown",
   "id": "e75dced9-f256-4b0c-8057-fde14e705928",
   "metadata": {},
   "source": [
    "# Plotting RMSE"
   ]
  },
  {
   "cell_type": "markdown",
   "id": "bc12a2f4-ee76-4102-b0ef-289d42abb5da",
   "metadata": {},
   "source": [
    "## Define Variables / Import MetaData"
   ]
  },
  {
   "cell_type": "code",
   "execution_count": null,
   "id": "1b80861a-5117-4e9b-818a-81018bff7057",
   "metadata": {},
   "outputs": [],
   "source": [
    "import os\n",
    "import sys\n",
    "from pathlib import Path"
   ]
  },
  {
   "cell_type": "code",
   "execution_count": null,
   "id": "373c8c05-354f-4662-8da3-5d17874a8637",
   "metadata": {},
   "outputs": [],
   "source": [
    "import numpy as np\n",
    "import matplotlib.pyplot as plt\n",
    "import matplotlib.colors as colors\n",
    "from cartopy import crs as ccrs \n",
    "import cartopy.feature as cfeature\n",
    "import pandas as pd\n",
    "import hvplot.pandas\n",
    "import xarray as xr\n",
    "import hvplot.xarray\n",
    "import geoviews.feature as gf\n",
    "from adjustText import adjust_text"
   ]
  },
  {
   "cell_type": "markdown",
   "id": "16f96c4a-219a-4007-9a59-541320b97ca6",
   "metadata": {},
   "source": [
    "## Functions"
   ]
  },
  {
   "cell_type": "code",
   "execution_count": null,
   "id": "247b1b88-acac-4bd5-aef3-c5024f43a42f",
   "metadata": {},
   "outputs": [],
   "source": [
    "parent_dir = os.path.abspath(os.path.join(os.getcwd(), '..'))\n",
    "if parent_dir not in sys.path:\n",
    "    sys.path.append(parent_dir)"
   ]
  },
  {
   "cell_type": "code",
   "execution_count": null,
   "id": "75307faa-1b40-4fbe-9b54-8be0d41ce292",
   "metadata": {},
   "outputs": [],
   "source": [
    "from utils.functions import import_flux_metadata, import_site_RMSE_data"
   ]
  },
  {
   "cell_type": "markdown",
   "id": "7295d926-7563-40b7-8ffe-4e278f02aa89",
   "metadata": {},
   "source": [
    "## Define variables "
   ]
  },
  {
   "cell_type": "code",
   "execution_count": null,
   "id": "6b0e20ae-ce58-4b1b-a519-e878327e099f",
   "metadata": {},
   "outputs": [],
   "source": [
    "# I can't get the config.py to work in jupyternotebook because it does not know where $NOBACKUP is\n",
    "amer_filepath = '../../ameriflux-data/'\n",
    "mic_filepath = '../preprocessing/intermediates/'"
   ]
  },
  {
   "cell_type": "code",
   "execution_count": null,
   "id": "9e30c3f4-4a2f-405c-b277-f354ccdb53db",
   "metadata": {},
   "outputs": [],
   "source": [
    "FLUX_DATA_PATH = Path(amer_filepath)\n",
    "FLUX_METADATA = Path(FLUX_DATA_PATH, \"AmeriFlux-site-search-results-202410071335.tsv\")\n",
    "MICASA_PREPROCESSED_DATA = Path(mic_filepath)"
   ]
  },
  {
   "cell_type": "code",
   "execution_count": null,
   "id": "b8592b63-873b-4f4f-8b20-30378804cd76",
   "metadata": {},
   "outputs": [],
   "source": [
    "# set map proj\n",
    "proj=ccrs.PlateCarree()"
   ]
  },
  {
   "cell_type": "code",
   "execution_count": null,
   "id": "f0ecca27-1fdc-43be-b981-bf46081659bd",
   "metadata": {},
   "outputs": [],
   "source": [
    "fluxnet_meta = import_flux_metadata(FLUX_METADATA)"
   ]
  },
  {
   "cell_type": "code",
   "execution_count": null,
   "id": "1456bfe7-896a-4f82-861b-8cfc04d5488c",
   "metadata": {},
   "outputs": [],
   "source": [
    "df = import_site_RMSE_data(FLUX_METADATA, '../analysis/RMSE_results_ANN.csv')\n",
    "df"
   ]
  },
  {
   "cell_type": "markdown",
   "id": "3ba384ce-d799-4b88-aa30-2708f819dd0c",
   "metadata": {},
   "source": [
    "## RMSE Viewer"
   ]
  },
  {
   "cell_type": "code",
   "execution_count": null,
   "id": "c5eb0e57-2f9a-42dd-ad9a-1aee5bf6f84e",
   "metadata": {},
   "outputs": [],
   "source": [
    "ds = xr.Dataset(\n",
    "    coords={\n",
    "        'site_id': df.index.values,\n",
    "        'lat': ('site_id', df['lat'].values),\n",
    "        'lon': ('site_id', df['lon'].values),\n",
    "    }, \n",
    "    data_vars={\n",
    "        'NEE_RMSE': (\"site_id\", df['NEE_RMSE'].values),\n",
    "        'NPP_RMSE': (\"site_id\", df['NPP_RMSE'].values),\n",
    "    }\n",
    ")"
   ]
  },
  {
   "cell_type": "code",
   "execution_count": null,
   "id": "329a1cad-e9cf-46a0-af20-dea68ca80f4c",
   "metadata": {},
   "outputs": [],
   "source": [
    "ds"
   ]
  },
  {
   "cell_type": "code",
   "execution_count": null,
   "id": "75dc1f79-b859-4560-8ee1-e8ac420e7f6f",
   "metadata": {},
   "outputs": [],
   "source": [
    "fig, axs = plt.subplots(1,2,figsize=(12, 10), subplot_kw={'projection': proj}, constrained_layout=True);\n",
    "fig.suptitle('MiCASA, FluxNet Sites Root Mean Squared Error (RMSE), Annual', y=0.76)\n",
    "values =['NEE_RMSE', 'NPP_RMSE']\n",
    "for ax,val in zip(axs, values):\n",
    "    ax.add_feature(cfeature.BORDERS,zorder=1, linewidth=0.3)\n",
    "    ax.add_feature(cfeature.COASTLINE,linewidth=0.3, zorder=1)\n",
    "    ax.add_feature(cfeature.LAND,zorder=0, color='lightgrey')\n",
    "    if val == 'NPP_RMSE':\n",
    "        norm=colors.LogNorm()\n",
    "        print(norm)\n",
    "    else:\n",
    "        norm=colors.Normalize()\n",
    "    plot = ds.plot.scatter(x=\"lon\", y=\"lat\",ax=ax,\n",
    "                           markersize=val, edgecolor='none',add_legend=False,\n",
    "                            norm=norm,\n",
    "                           hue=val,\n",
    "                           cmap='autumn_r',\n",
    "                           add_colorbar=False\n",
    "                          )\n",
    "    \n",
    "    cbar = fig.colorbar(plot, ax=ax, shrink=0.9, label=val, orientation='horizontal')\n",
    "    # ax.set_title(val[:3])\n",
    "plt.show()"
   ]
  },
  {
   "cell_type": "code",
   "execution_count": null,
   "id": "47623df7-b49e-4a19-ac22-d0dbfc80f9d0",
   "metadata": {
    "scrolled": true
   },
   "outputs": [],
   "source": [
    "# Histograms\n",
    "# fig, axs = plt.subplots(1,2,figsize=(6, 2), constrained_layout=True);\n",
    "# for ax,val in zip(axs, values):\n",
    "#     df[val].hist(ax=ax)\n",
    "#     ax.set_title(val)"
   ]
  },
  {
   "cell_type": "markdown",
   "id": "898c577e-0f8f-4e5c-8762-4a9a81d927ab",
   "metadata": {},
   "source": [
    "### Look at NEE Only"
   ]
  },
  {
   "cell_type": "code",
   "execution_count": null,
   "id": "373fd5b3-7cc4-49cc-91db-b99b1fb363c0",
   "metadata": {},
   "outputs": [],
   "source": [
    "var = \"NEE_RMSE\""
   ]
  },
  {
   "cell_type": "code",
   "execution_count": null,
   "id": "f14af345-49e2-4bf4-aee4-aa381a9419b2",
   "metadata": {},
   "outputs": [],
   "source": [
    "ds_NEE = ds[var]"
   ]
  },
  {
   "cell_type": "code",
   "execution_count": null,
   "id": "a7882855-74e4-418d-9049-4b594ca0293f",
   "metadata": {},
   "outputs": [],
   "source": [
    "ds_sel = ds.where(ds[var]>4e-8,drop=True)\n",
    "ds_sel"
   ]
  },
  {
   "cell_type": "code",
   "execution_count": null,
   "id": "51ae8c3b-73fc-450e-ad21-dde829f935de",
   "metadata": {},
   "outputs": [],
   "source": [
    "fig, ax = plt.subplots(1,1,figsize=(10,8), subplot_kw={'projection': proj}, \n",
    "                       constrained_layout=True\n",
    "                      );\n",
    "ax.add_feature(cfeature.LAND,\n",
    "               edgecolor='lightgrey',facecolor='none',\n",
    "               zorder=0\n",
    "              )\n",
    "ax.add_feature(cfeature.STATES,edgecolor='lightgrey', zorder=0)\n",
    "\n",
    "# ax.scatter(ds_sel['lon'], ds_sel['lat'], c=ds_sel, cmap=\"autumn_r\")\n",
    "# ds_sel.plot(x=\"lon\", y=\"lat\")\n",
    "conus_extent = [-125, -70, 25, 50]\n",
    "ax.set_extent(conus_extent, crs=ccrs.PlateCarree())\n",
    "\n",
    "plot = ds_sel.plot.scatter(\n",
    "                        x=\"lon\", y=\"lat\",\n",
    "                           ax=ax,\n",
    "                           # s=100,\n",
    "                           edgecolor='black',\n",
    "                            linewidths=0.5,\n",
    "    # add_legend=False,\n",
    "                        # norm=colors.LogNorm(),  \n",
    "                       hue=var,\n",
    "                       cmap='autumn_r',\n",
    "                       add_colorbar=False\n",
    "                      )\n",
    "\n",
    "texts = []\n",
    "for i in range(len(ds_sel.site_id)):\n",
    "    txt = ax.annotate(ds_sel.site_id.values[i], \n",
    "                (ds_sel.lon.values[i], ds_sel.lat.values[i]),\n",
    "                transform=proj,\n",
    "                fontsize=12)\n",
    "    texts.append(txt)\n",
    "adjust_text(texts, ax=ax)\n",
    "\n",
    "cbar = fig.colorbar(plot, ax=ax, shrink=0.9, label=var[4:], orientation='horizontal')\n",
    "fig.suptitle('NEE RMSE values Higher Than 4x$10^{-8}$ (Annual)', \n",
    "             y=0.78\n",
    "            )"
   ]
  },
  {
   "cell_type": "markdown",
   "id": "96362ab8-a11d-4920-8afe-82f5ed3f93ae",
   "metadata": {},
   "source": [
    "#### Sites info"
   ]
  },
  {
   "cell_type": "code",
   "execution_count": null,
   "id": "f9142e71-7aa1-4b50-9786-6864f717e625",
   "metadata": {},
   "outputs": [],
   "source": [
    "# Subset the df\n",
    "df_sel = df[df[var]>4e-8]"
   ]
  },
  {
   "cell_type": "code",
   "execution_count": null,
   "id": "5db9a9db-a135-456a-8bb3-46df5e23c0b9",
   "metadata": {},
   "outputs": [],
   "source": [
    "# Define subset site info to display\n",
    "site_subset = ['Site ID', \n",
    "                'Name', \n",
    "                'Vegetation Description (IGBP)', \n",
    "                'Climate Class Description (Koeppen)', \n",
    "                'Elevation (m)',\n",
    "                'Years of AmeriFlux FLUXNET Data']"
   ]
  },
  {
   "cell_type": "code",
   "execution_count": null,
   "id": "56afe2e2-835c-4956-845e-455c3bc9e6a1",
   "metadata": {},
   "outputs": [],
   "source": [
    "sites_sel = df_sel.index.tolist()\n",
    "sites_sel_info = fluxnet_meta[fluxnet_meta['Site ID'].isin(sites_sel)][site_subset]\n",
    "sites_sel_info = sites_sel_info.set_index('Site ID')\n",
    "sites_sel_info"
   ]
  },
  {
   "cell_type": "markdown",
   "id": "70e89b48-0bf0-403a-bb2f-3c6e12d77ab3",
   "metadata": {},
   "source": [
    "#### Pandas Holoviews Interactive Plot"
   ]
  },
  {
   "cell_type": "code",
   "execution_count": null,
   "id": "5d62724b-fca2-4ae4-a3b8-66ccb91f8543",
   "metadata": {},
   "outputs": [],
   "source": [
    "df_sel.hvplot.points(x=\"lon\", \n",
    "                y=\"lat\",\n",
    "                geo=True, \n",
    "                # crs=ccrs.PlateCarree(),\n",
    "\n",
    "                c=var,\n",
    "                logz=True,\n",
    "                cmap='autumn_r',\n",
    "                clabel=f'{var}',\n",
    "\n",
    "                 size=50,\n",
    "                \n",
    "                # tiles=True,\n",
    "                tiles='EsriNatGeo',\n",
    "                tiles_opts={'alpha': 0.4},\n",
    "\n",
    "\n",
    "\n",
    "                hover_cols=['Site ID'],\n",
    "\n",
    "                # # width=700, height=500,\n",
    "                # xlim=(min_lon, max_lon),   # longitude range\n",
    "                # ylim=(min_lat, max_lat),     # latitude range\n",
    "                # frame_width=800,\n",
    "                frame_height=400\n",
    "                                   )"
   ]
  },
  {
   "cell_type": "code",
   "execution_count": null,
   "id": "61c4bb7c-6446-4912-a7ee-dd598283563f",
   "metadata": {},
   "outputs": [],
   "source": [
    "with pd.option_context('display.max_colwidth', None):\n",
    "    display(sites_sel_info)"
   ]
  },
  {
   "cell_type": "markdown",
   "id": "5fc1b9ec-bdaa-4657-ae4d-34ba20bc4c8d",
   "metadata": {},
   "source": [
    "# Old"
   ]
  },
  {
   "cell_type": "markdown",
   "id": "442fb593",
   "metadata": {},
   "source": [
    "### Pandas Holoviews"
   ]
  },
  {
   "cell_type": "code",
   "execution_count": null,
   "id": "6df5a78d-d074-4f54-9b9e-b2c8b0aefd62",
   "metadata": {},
   "outputs": [],
   "source": [
    "df"
   ]
  },
  {
   "cell_type": "code",
   "execution_count": null,
   "id": "2a421394-17d6-4044-bfa4-39915863c27b",
   "metadata": {},
   "outputs": [],
   "source": [
    "import xyzservices.providers as xyz\n",
    "from matplotlib.ticker import LogFormatter"
   ]
  },
  {
   "cell_type": "code",
   "execution_count": null,
   "id": "d0fa4f8a-2220-4276-a245-cd9e0295dbff",
   "metadata": {},
   "outputs": [],
   "source": [
    "min_lon, max_lon = df[\"lon\"].min(), df[\"lon\"].max()\n",
    "min_lat, max_lat = df[\"lat\"].min(), df[\"lat\"].max()\n",
    "\n",
    "print(min_lon, max_lon)\n",
    "print(min_lat, max_lat)"
   ]
  },
  {
   "cell_type": "code",
   "execution_count": null,
   "id": "63968f61-c3ee-4806-a0b5-64513c43b7bf",
   "metadata": {},
   "outputs": [],
   "source": [
    "plot_list = []\n",
    "for i, value in enumerate(values): \n",
    "    plot = df.hvplot.points(x=\"lon\", \n",
    "                            y=\"lat\",\n",
    "                            geo=True, \n",
    "                            crs=ccrs.PlateCarree(),\n",
    "                            # projection=ccrs.PlateCarree(), # Doesn't work with tiles\n",
    "    \n",
    "                             #Custom cmap with transparency won't show up in bokeh\n",
    "                            c=value,\n",
    "                            logz=True,\n",
    "                            cmap=\"autumn_r\",\n",
    "                            clabel=f'{value}',\n",
    "    \n",
    "                             size=45,\n",
    "                             # Size values don't scale logarithmically\n",
    "                            # s=values[0],\n",
    "                            # scale=4500,\n",
    "                             # color='red',\n",
    "                            \n",
    "                            tiles=True,\n",
    "                            tiles_opts={'alpha': 0.4},\n",
    "                            # tiles=xyz.Esri.WorldGrayCanvas,\n",
    "    \n",
    "    \n",
    "                            hover_cols=['Site ID'],\n",
    "    \n",
    "                            # width=700, height=500,\n",
    "                            xlim=(-170, -20),   # longitude range\n",
    "                            ylim=(-60, 75),     # latitude range\n",
    "                            # frame_width=800,\n",
    "                            frame_height=700\n",
    "                                               )\n",
    "    plot_list.append(plot)"
   ]
  },
  {
   "cell_type": "code",
   "execution_count": null,
   "id": "41b664c0-5feb-43db-91eb-018b9c8259e6",
   "metadata": {},
   "outputs": [],
   "source": [
    "(plot_list[0] * gf.coastline).opts(title=\"Micasa/Ameriflux Net Ecosystem Exchange (NEE) RMSE\")"
   ]
  },
  {
   "cell_type": "code",
   "execution_count": null,
   "id": "cd4e1f2f-f44c-4f26-9f4d-3465ed0013bd",
   "metadata": {
    "scrolled": true
   },
   "outputs": [],
   "source": [
    "(plot_list[1] * gf.coastline).opts(title=\"Micasa/Ameriflux Net Primary Productivity (NPP) RMSE\")\n"
   ]
  },
  {
   "cell_type": "markdown",
   "id": "1db69d4e-fd90-4c46-8330-ab4144801a7d",
   "metadata": {},
   "source": [
    "#### Make custom colormap with transparency"
   ]
  },
  {
   "cell_type": "code",
   "execution_count": null,
   "id": "523a5918-b276-48b1-9eea-fcf3bc385d49",
   "metadata": {},
   "outputs": [],
   "source": [
    "# from matplotlib.colors import ListedColormap"
   ]
  },
  {
   "cell_type": "code",
   "execution_count": null,
   "id": "a1e5513f",
   "metadata": {},
   "outputs": [],
   "source": [
    "# Make transparency colormap:\n",
    "# cmap = plt.cm.autumn_r\n",
    "# cmap"
   ]
  },
  {
   "cell_type": "code",
   "execution_count": null,
   "id": "6eccf98f-133c-4bd1-a959-f69f9b94e08f",
   "metadata": {},
   "outputs": [],
   "source": [
    "# cmap(np.arange(cmap.N)).shape"
   ]
  },
  {
   "cell_type": "code",
   "execution_count": null,
   "id": "23c00bda-fa4e-48a0-b5ac-1e56cae40e24",
   "metadata": {},
   "outputs": [],
   "source": [
    "# cmap(1)"
   ]
  },
  {
   "cell_type": "code",
   "execution_count": null,
   "id": "5b0a9d5c-848b-486d-9d16-167073ea0115",
   "metadata": {},
   "outputs": [],
   "source": [
    "# my_cmap = cmap(np.arange(cmap.N))\n",
    "# my_cmap[:, -1] = np.linspace(0, 1, cmap.N)\n",
    "# my_cmap = ListedColormap(my_cmap)\n",
    "# my_cmap"
   ]
  },
  {
   "cell_type": "code",
   "execution_count": null,
   "id": "533a705d-920c-4ac3-a868-994494df3e1e",
   "metadata": {},
   "outputs": [],
   "source": [
    "# my_cmap = ListedColormap(my_cmap)\n",
    "# my_cmap"
   ]
  },
  {
   "cell_type": "code",
   "execution_count": null,
   "id": "3b4adafa-5f1d-4ba8-ba58-b7cd63247ab7",
   "metadata": {},
   "outputs": [],
   "source": [
    "# fig, axs = plt.subplots(1,2,figsize=(12, 10), subplot_kw={'projection': proj}, constrained_layout=True);\n",
    "# fig.suptitle('MiCASA, FluxNet Sites Root Mean Squared Error (RMSE)', y=0.76)\n",
    "# values =['NEE_RMSE', 'NPP_RMSE']\n",
    "# for ax,val in zip(axs, values):\n",
    "#     ax.add_feature(cfeature.COASTLINE,zorder=0)\n",
    "#     plot = ds.plot.scatter(x=\"lon\", y=\"lat\",ax=ax,\n",
    "                           \n",
    "#                            markersize=val, edgecolor='none',add_legend=False,\n",
    "                           \n",
    "#                             norm=colors.LogNorm(), \n",
    "#                             # norm=colors.LogNorm(vmin=ds[val].min(), vmax=ds[val].max()),\n",
    "#                            hue=val,\n",
    "#                            cmap=my_cmap,\n",
    "#                            add_colorbar=False\n",
    "#                           )\n",
    "    \n",
    "#     cbar = fig.colorbar(plot, ax=ax, shrink=0.9, label=val[4:], orientation='horizontal')\n",
    "#     ax.set_title(val[:3])\n",
    "# plt.show()"
   ]
  },
  {
   "cell_type": "code",
   "execution_count": null,
   "id": "e419a273-d381-4721-b0cb-bb53797a6381",
   "metadata": {},
   "outputs": [],
   "source": [
    "# Try to scale size by log:\n",
    "# df_scale = df.copy()\n",
    "# df_scale[\"log_NEE_RMSE\"] = np.log(df_scale[\"NEE_RMSE\"])\n",
    "# df_scale.head()\n",
    "\n",
    "# **** This doesn't work because the logs are negative- would have to create a pseudo log scale but this is complex ******"
   ]
  },
  {
   "cell_type": "code",
   "execution_count": null,
   "id": "340f79d5-a903-4c7b-8bde-0c603586c7d8",
   "metadata": {},
   "outputs": [],
   "source": []
  }
 ],
 "metadata": {
  "kernelspec": {
   "display_name": "notebooks",
   "language": "python",
   "name": "notebooks"
  },
  "language_info": {
   "codemirror_mode": {
    "name": "ipython",
    "version": 3
   },
   "file_extension": ".py",
   "mimetype": "text/x-python",
   "name": "python",
   "nbconvert_exporter": "python",
   "pygments_lexer": "ipython3",
   "version": "3.12.11"
  }
 },
 "nbformat": 4,
 "nbformat_minor": 5
}
