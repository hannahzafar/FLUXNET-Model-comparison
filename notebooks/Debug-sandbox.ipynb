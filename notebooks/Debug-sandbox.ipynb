{
 "cells": [
  {
   "cell_type": "markdown",
   "id": "b0bdf0e6-4e32-4ab5-a5fe-ed48504c19fc",
   "metadata": {},
   "source": [
    "## Check Jupyter notebook is using pixi kernel"
   ]
  },
  {
   "cell_type": "code",
   "execution_count": null,
   "id": "7044e024-5f89-480d-bccd-c7240c5ac255",
   "metadata": {},
   "outputs": [],
   "source": [
    "# Cell 1: Check Python executable\n",
    "import sys\n",
    "print(\"Python executable:\", sys.executable)"
   ]
  },
  {
   "cell_type": "code",
   "execution_count": null,
   "id": "f6c7289a-1ed2-4483-a55b-5376626a411f",
   "metadata": {},
   "outputs": [],
   "source": [
    "# Cell 2: Check Python path\n",
    "import sys\n",
    "print(\"Python path:\")\n",
    "for path in sys.path:\n",
    "    print(f\"  {path}\")"
   ]
  },
  {
   "cell_type": "markdown",
   "id": "bc12a2f4-ee76-4102-b0ef-289d42abb5da",
   "metadata": {},
   "source": [
    "## Define Variables / Import MetaData"
   ]
  },
  {
   "cell_type": "code",
   "execution_count": null,
   "id": "373c8c05-354f-4662-8da3-5d17874a8637",
   "metadata": {},
   "outputs": [],
   "source": [
    "import numpy as np\n",
    "import matplotlib as mpl\n",
    "import matplotlib.pyplot as plt\n",
    "from cartopy import crs as ccrs \n",
    "import cartopy.feature as cfeature\n",
    "import pandas as pd\n",
    "import xarray as xr\n",
    "# import hvplot.pandas\n",
    "import holoviews as hv\n",
    "import hvplot.xarray\n",
    "# plt.rcParams[\"animation.html\"] = \"jshtml\" #for jupyterlab display, do I need this???\n",
    "import datetime\n",
    "import glob\n",
    "import os\n",
    "import pprint\n"
   ]
  },
  {
   "cell_type": "code",
   "execution_count": null,
   "id": "a779db1b-d456-4302-8e5f-2b5f0e0d52de",
   "metadata": {},
   "outputs": [],
   "source": [
    "# Double check packages are coming from the right locations\n",
    "print(\"NumPy location:\", np.__file__)\n",
    "print(\"NumPy version:\", np.__version__)"
   ]
  },
  {
   "cell_type": "code",
   "execution_count": null,
   "id": "6b0e20ae-ce58-4b1b-a519-e878327e099f",
   "metadata": {},
   "outputs": [],
   "source": [
    "# Define misc variables\n",
    "amer_filepath = '../ameriflux-data/'\n",
    "mic_filepath = '../intermediates/'\n",
    "timedelta = 'DD'"
   ]
  },
  {
   "cell_type": "code",
   "execution_count": null,
   "id": "1456bfe7-896a-4f82-861b-8cfc04d5488c",
   "metadata": {},
   "outputs": [],
   "source": [
    "# Import site metadata csv\n",
    "meta_file = amer_filepath + 'AmeriFlux-site-search-results-202410071335.tsv'\n",
    "ameriflux_meta = pd.read_csv(meta_file, sep='\\t')\n",
    "fluxnet_meta = ameriflux_meta.loc[ameriflux_meta['AmeriFlux FLUXNET Data'] == 'Yes'] "
   ]
  },
  {
   "cell_type": "code",
   "execution_count": null,
   "id": "2f99e08c-4328-46dd-a44c-05564dcff537",
   "metadata": {},
   "outputs": [],
   "source": [
    "total_sites = fluxnet_meta['Site ID'].to_list()\n",
    "len(total_sites)"
   ]
  },
  {
   "cell_type": "code",
   "execution_count": null,
   "id": "b8592b63-873b-4f4f-8b20-30378804cd76",
   "metadata": {},
   "outputs": [],
   "source": [
    "# set map proj\n",
    "proj=ccrs.PlateCarree()"
   ]
  },
  {
   "cell_type": "code",
   "execution_count": null,
   "id": "822f6e09-5263-4085-b1ec-eacc96c7b574",
   "metadata": {},
   "outputs": [],
   "source": [
    "def get_single_match(pattern):\n",
    "    matches = glob.glob(pattern)\n",
    "    if len(matches) == 1:\n",
    "        return matches[0]\n",
    "    elif len(matches) == 0:\n",
    "        raise ValueError(f\"No matches found\")\n",
    "    else:\n",
    "        raise ValueError(f\"Multiple matches found: {matches}\")"
   ]
  },
  {
   "cell_type": "code",
   "execution_count": null,
   "id": "6886f032-cfdb-442a-8918-830cfa71c0d5",
   "metadata": {},
   "outputs": [],
   "source": [
    "def get_amer_match(amer_filepath, site_ID):\n",
    "    match = get_single_match(amer_filepath + 'AMF_' + site_ID +\n",
    "                            '_FLUXNET_SUBSET_*/AMF_' + site_ID +\n",
    "                            '_FLUXNET_SUBSET_' + timedelta + '*.csv')\n",
    "    return match"
   ]
  },
  {
   "cell_type": "markdown",
   "id": "e04b5772-5617-4ab3-95ea-7a7e7034fa02",
   "metadata": {
    "jp-MarkdownHeadingCollapsed": true
   },
   "source": [
    "## Preprocessing"
   ]
  },
  {
   "cell_type": "markdown",
   "id": "040e6461-d74d-4967-a626-49eff7a26d92",
   "metadata": {},
   "source": [
    "### 1. Check sites that aren't preprocessed or plotted"
   ]
  },
  {
   "cell_type": "code",
   "execution_count": null,
   "id": "74fc54c8-60bf-4f32-801f-7807acdc07ae",
   "metadata": {},
   "outputs": [],
   "source": [
    "# Get list of files and create dataframe with truncated filenames\n",
    "plots_list = !ls plots/\n",
    "plotted_sites = list([filename.split('_')[0] for filename in plots_list])"
   ]
  },
  {
   "cell_type": "code",
   "execution_count": null,
   "id": "79926497-e90f-448d-884c-760eaddfa041",
   "metadata": {},
   "outputs": [],
   "source": [
    "len(plotted_sites)"
   ]
  },
  {
   "cell_type": "code",
   "execution_count": null,
   "id": "f8c1cfc6-5a4e-4c6a-8880-471289731b85",
   "metadata": {},
   "outputs": [],
   "source": [
    "# Find missing sites that are not plotted:\n",
    "missing_plots = [item for item in total_sites\n",
    "                if item not in plotted_sites]\n",
    "\n",
    "missing_df = pd.DataFrame(missing_plots, columns=['Missing from Plots'])\n",
    "missing_df"
   ]
  },
  {
   "cell_type": "code",
   "execution_count": null,
   "id": "f8fdd102-af6b-4370-8863-38e8361a2b61",
   "metadata": {},
   "outputs": [],
   "source": [
    "# What about intermediates?\n",
    "intermediates_list = !ls intermediates/\n",
    "processed_sites = list([filename.split('_')[0] for filename in intermediates_list])"
   ]
  },
  {
   "cell_type": "code",
   "execution_count": null,
   "id": "86ba219d-2e3c-4c0a-99f2-2358a3069149",
   "metadata": {},
   "outputs": [],
   "source": [
    "missing_processed = [item for item in total_sites\n",
    "                if item not in processed_sites]\n",
    "missing_df2 = pd.DataFrame(missing_processed, columns=['Missing from Intermediates'])\n",
    "missing_df2"
   ]
  },
  {
   "cell_type": "markdown",
   "id": "7e6ebd0a-350e-4e71-ab65-5b1a6852238f",
   "metadata": {},
   "source": [
    "##### No longer missing! Bugs fixed"
   ]
  },
  {
   "cell_type": "markdown",
   "id": "72641bd2-cffe-422d-a2b2-71a45d81d579",
   "metadata": {},
   "source": [
    "### 2. Debugging pre 2001 FLUXNET data"
   ]
  },
  {
   "cell_type": "code",
   "execution_count": null,
   "id": "ceb8c98e-1b10-48d7-ade8-dce23d652f31",
   "metadata": {},
   "outputs": [],
   "source": [
    "def get_single_match(pattern):\n",
    "  matches = glob.glob(pattern)\n",
    "  if len(matches) == 1:\n",
    "      return matches[0]\n",
    "  elif len(matches) == 0:\n",
    "      raise ValueError(f\"No matches found for: {pattern}\")\n",
    "  else:\n",
    "      raise ValueError(f\"Multiple matches found: {matches}\")\n",
    "\n",
    "timedelta = 'DD'\n",
    "micasa_var_list = ['NEE', 'NPP']\n",
    "\n",
    "#Import list of fluxnet sites\n",
    "meta_file = amer_filepath + 'AmeriFlux-site-search-results-202410071335.tsv'\n",
    "ameriflux_meta = pd.read_csv(meta_file, sep='\\t')\n",
    "fluxnet_meta = ameriflux_meta.loc[ameriflux_meta['AmeriFlux FLUXNET Data'] == 'Yes'] #use FLUXNET only\n",
    "fluxnet_list = fluxnet_meta['Site ID'].to_list()"
   ]
  },
  {
   "cell_type": "code",
   "execution_count": null,
   "id": "5c53aa11-9d4b-4a57-ba7b-84886aa951f4",
   "metadata": {},
   "outputs": [],
   "source": [
    "# see the dates for the erroring sites\n",
    "for site_ID in fluxnet_list:\n",
    "    # Open site data and access time indices\n",
    "    site_file = get_single_match(amer_filepath + 'AMF_' + site_ID +\n",
    "                              '_FLUXNET_SUBSET_*/AMF_' + site_ID +\n",
    "                              '_FLUXNET_SUBSET_' + timedelta + '*.csv')\n",
    "    fluxnet_sel = pd.read_csv(site_file)\n",
    "    \n",
    "    # select subset of columns + convert to datetime objects\n",
    "    fluxnet_sel_dates = fluxnet_sel.loc[:,['TIMESTAMP']].copy()\n",
    "    fluxnet_sel_dates['TIMESTAMP'] = pd.to_datetime(fluxnet_sel_dates['TIMESTAMP'],format='%Y%m%d')\n",
    "    fluxnet_sel_dates = fluxnet_sel_dates.set_index('TIMESTAMP')\n",
    "    \n",
    "    # Create a list of unique dates from the site\n",
    "    time = fluxnet_sel_dates.index\n",
    "    dates_unique = list({dt.date() for dt in time})\n",
    "    dates_unique.sort()\n",
    "\n",
    "    \n",
    "    # Extract micasa data\n",
    "    path = '../micasa-data/daily-0.1deg-final/holding/'\n",
    "    data_path = path + 'daily/'\n",
    "    \n",
    "    path_list = []\n",
    "    for date in dates_unique:\n",
    "        f_year = str(date.year)\n",
    "        f_month = f\"{date.month:02}\"\n",
    "        filename = 'MiCASA_v1_flux_*' + date.strftime('%Y%m%d') + '.nc4'\n",
    "        try:\n",
    "            get_single_match(os.path.join(data_path,f_year,f_month,filename))\n",
    "        except ValueError as e:\n",
    "            print(f\"{site_ID} has Fluxnet data for: {dates_unique[0]} to {dates_unique[-1]}\")\n",
    "            break"
   ]
  },
  {
   "cell_type": "code",
   "execution_count": null,
   "id": "bd89645a-6c7a-465f-8e24-7f94d7bd81bc",
   "metadata": {},
   "outputs": [],
   "source": [
    "# try to skip the error for one site\n",
    "site_ID = \"CA-Ca1\"\n",
    "\n",
    "# Open site data and access time indices\n",
    "site_file = get_single_match(amer_filepath + 'AMF_' + site_ID +\n",
    "                          '_FLUXNET_SUBSET_*/AMF_' + site_ID +\n",
    "                          '_FLUXNET_SUBSET_' + timedelta + '*.csv')\n",
    "fluxnet_sel = pd.read_csv(site_file)\n",
    "\n",
    "# select subset of columns + convert to datetime objects\n",
    "fluxnet_sel_dates = fluxnet_sel.loc[:,['TIMESTAMP']].copy()\n",
    "fluxnet_sel_dates['TIMESTAMP'] = pd.to_datetime(fluxnet_sel_dates['TIMESTAMP'],format='%Y%m%d')\n",
    "fluxnet_sel_dates = fluxnet_sel_dates.set_index('TIMESTAMP')\n",
    "\n",
    "# Create a list of unique dates from the site\n",
    "time = fluxnet_sel_dates.index\n",
    "dates_unique = list({dt.date() for dt in time})\n",
    "dates_unique.sort()\n",
    "\n",
    "\n",
    "# Extract micasa data\n",
    "data_path = '/discover/nobackup/hzafar/ghgc/micasa/micasa-data/daily'\n",
    "path_list = []\n",
    "for date in dates_unique:\n",
    "    f_year = str(date.year)\n",
    "    f_month = f\"{date.month:02}\"\n",
    "    filename = 'MiCASA_v1_flux_*' + date.strftime('%Y%m%d') + '.nc4'\n",
    "    # print(os.path.join(data_path,f_year,f_month,filename)\n",
    "    \n",
    "    try:\n",
    "        filepath = get_single_match(os.path.join(data_path,f_year,f_month,filename))\n",
    "        path_list.append(filepath)\n",
    "    except ValueError as e:\n",
    "        continue"
   ]
  },
  {
   "cell_type": "code",
   "execution_count": null,
   "id": "633c0d5f-fbe5-47f1-bb2d-d828e60335a1",
   "metadata": {},
   "outputs": [],
   "source": [
    "print(dates_unique[0])\n",
    "path_list[0]"
   ]
  },
  {
   "cell_type": "markdown",
   "id": "f7273643-d27f-43ce-99ba-24f26537c12c",
   "metadata": {
    "jp-MarkdownHeadingCollapsed": true
   },
   "source": [
    "## Land Mask"
   ]
  },
  {
   "cell_type": "code",
   "execution_count": null,
   "id": "dd2bdd56-1035-4b7e-9d42-ccd460811885",
   "metadata": {},
   "outputs": [],
   "source": [
    "import seaborn as sns"
   ]
  },
  {
   "cell_type": "markdown",
   "id": "24a7d2e7-07d0-4395-9ae1-19c8f9df478e",
   "metadata": {},
   "source": [
    "### FluxNet Land Type / Tables of Site lat/lon for Brad"
   ]
  },
  {
   "cell_type": "code",
   "execution_count": null,
   "id": "82f29fb4-37b7-4c17-ad9f-42ea71f7af22",
   "metadata": {},
   "outputs": [],
   "source": [
    "summary_table = fluxnet_meta[['Site ID','Latitude (degrees)','Longitude (degrees)', 'Vegetation Abbreviation (IGBP)', 'Vegetation Description (IGBP)', 'Climate Class Abbreviation (Koeppen)', 'Climate Class Description (Koeppen)']]\n",
    "summary_table"
   ]
  },
  {
   "cell_type": "code",
   "execution_count": null,
   "id": "a0c24438-9603-4d28-b958-acdb51382fb9",
   "metadata": {},
   "outputs": [],
   "source": [
    "# make csv summary\n",
    "# summary_table.to_csv('ameriflux-data/Ameriflux_summary_table.csv')"
   ]
  },
  {
   "cell_type": "markdown",
   "id": "18bc10e1-6866-4dcf-8cb2-07c1aac998c5",
   "metadata": {},
   "source": [
    "### Plot AmeriFlux sites"
   ]
  },
  {
   "cell_type": "code",
   "execution_count": null,
   "id": "353fcc15-e0cb-4462-a19f-b539a98fc50a",
   "metadata": {},
   "outputs": [],
   "source": [
    "fig, ax = plt.subplots(1, 1, figsize=(10, 6), subplot_kw= {'projection': proj})\n",
    "ax.add_feature(cfeature.COASTLINE,zorder=0)\n",
    "sns.scatterplot(x='Longitude (degrees)', y='Latitude (degrees)', data=summary_table, hue='Vegetation Abbreviation (IGBP)', ax=ax)\n",
    "plt.legend(bbox_to_anchor=(1.05, 1), loc=2, borderaxespad=0.)"
   ]
  },
  {
   "cell_type": "code",
   "execution_count": null,
   "id": "e6a6a73d-b8b6-490c-9f24-8f7158b6a4a5",
   "metadata": {},
   "outputs": [],
   "source": [
    "# Plot vegetation abbreviation?\n",
    "veg_dict = dict(zip(summary_table['Vegetation Abbreviation (IGBP)'].unique(),summary_table['Vegetation Description (IGBP)'].unique()))"
   ]
  },
  {
   "cell_type": "code",
   "execution_count": null,
   "id": "6c3eda00-0283-4eb7-bd63-6f2366ad96b4",
   "metadata": {},
   "outputs": [],
   "source": [
    "pprint.pprint(veg_dict)"
   ]
  },
  {
   "cell_type": "markdown",
   "id": "4c94f055-4192-4cca-b744-a383f7aa4c70",
   "metadata": {},
   "source": [
    "### MiCASA Land Mask"
   ]
  },
  {
   "cell_type": "code",
   "execution_count": null,
   "id": "996792b6-5f1f-460f-b79d-6462322e528a",
   "metadata": {},
   "outputs": [],
   "source": [
    "!ls ../../landmask"
   ]
  },
  {
   "cell_type": "code",
   "execution_count": null,
   "id": "51bcf13b-959a-44e6-ac81-6d13ecd8d8b0",
   "metadata": {},
   "outputs": [],
   "source": [
    "# Import landmask file for 2001\n",
    "landmask_filepath = '../../landmask/'\n",
    "year = str(2001)\n",
    "ds = xr.open_dataset(landmask_filepath + 'MiCASA_v1_cover_x3600_y1800_yearly_' + year + '.nc4')"
   ]
  },
  {
   "cell_type": "code",
   "execution_count": null,
   "id": "f2a45459-0b7a-4406-8728-08e801e94102",
   "metadata": {},
   "outputs": [],
   "source": [
    "ds.ftype"
   ]
  },
  {
   "cell_type": "code",
   "execution_count": null,
   "id": "97902ebf-90bb-40f8-9272-d0a6c32ef968",
   "metadata": {},
   "outputs": [],
   "source": [
    "ds_water = ds.ftype.sel(type=17)"
   ]
  },
  {
   "cell_type": "code",
   "execution_count": null,
   "id": "ff4b8014-ed7c-4a20-b678-edb80853473f",
   "metadata": {},
   "outputs": [],
   "source": [
    "ds_water.plot()"
   ]
  },
  {
   "cell_type": "code",
   "execution_count": null,
   "id": "9e0cf953-cabf-4f37-8562-8d39e1a72c39",
   "metadata": {},
   "outputs": [],
   "source": [
    "# ds.ftype.hvplot(x='lat',y='lon', \n",
    "#                 crs=proj,\n",
    "#                size=150)"
   ]
  },
  {
   "cell_type": "markdown",
   "id": "f1970714-5134-44ad-b0f2-0b411e1f03b5",
   "metadata": {},
   "source": [
    "## Coastal Site Issue"
   ]
  },
  {
   "cell_type": "code",
   "execution_count": null,
   "id": "776a4499-46bf-42aa-982d-332087bc3360",
   "metadata": {},
   "outputs": [],
   "source": [
    "site_ID = 'US-KS3' # example site that is showing up weird\n",
    "# Extract site lat/lon\n",
    "site_lat = ameriflux_meta.loc[ameriflux_meta['Site ID'] == site_ID, 'Latitude (degrees)'].values[0]\n",
    "site_lon = ameriflux_meta.loc[ameriflux_meta['Site ID'] == site_ID, 'Longitude (degrees)'].values[0]\n",
    "print(site_lat, site_lon)"
   ]
  },
  {
   "cell_type": "code",
   "execution_count": null,
   "id": "557a2fbb-9927-45d2-a211-8ed1a1ea5260",
   "metadata": {},
   "outputs": [],
   "source": [
    "# Approx location of site\n",
    "ax = plt.subplot(projection=proj,frameon=False)\n",
    "if site_lat >= 20:\n",
    "    # North America extents\n",
    "    min_lon, max_lon = -170, -57\n",
    "    min_lat, max_lat = 25, 74\n",
    "\n",
    "else:\n",
    "    # South America extents\n",
    "    min_lon, max_lon = -90, -30\n",
    "    min_lat, max_lat = -60, 12\n",
    "\n",
    "ax.axis('off')\n",
    "ax.set_extent([min_lon, max_lon, min_lat, max_lat], crs=ccrs.PlateCarree())\n",
    "ax.coastlines()\n",
    "\n",
    "ax.scatter(site_lon,site_lat,\n",
    "       marker='*', \n",
    "       s=500,\n",
    "       color='yellow',\n",
    "       edgecolor='black',\n",
    "               zorder=3)"
   ]
  },
  {
   "cell_type": "code",
   "execution_count": null,
   "id": "7f372e94-26b4-4793-9ca4-5765e9cc2e23",
   "metadata": {},
   "outputs": [],
   "source": [
    "# Subset data for plotting\n",
    "min_lon, max_lon = site_lon-5, site_lon+5\n",
    "min_lat, max_lat = site_lat-2, site_lat+2"
   ]
  },
  {
   "cell_type": "markdown",
   "id": "7c2876a7-6c27-4f9c-aafd-ed837c23ec29",
   "metadata": {},
   "source": [
    "#### Single file"
   ]
  },
  {
   "cell_type": "code",
   "execution_count": null,
   "id": "28075ff1-98fa-4d47-80eb-12c9d22162a1",
   "metadata": {},
   "outputs": [],
   "source": [
    "mult_path_test = glob.glob('/discover/nobackup/hzafar/ghgc/micasa/micasa-data/daily/2016/01/MiCASA_v1_flux*.nc4')"
   ]
  },
  {
   "cell_type": "code",
   "execution_count": null,
   "id": "e3000fd5-aa41-4a4f-8aa0-1de8f74ce2e7",
   "metadata": {},
   "outputs": [],
   "source": [
    "ds = xr.open_dataset(mult_path_test[0])['NEE']\n",
    "ds_subset = ds.sel(lat=slice(min_lat, max_lat), lon=slice(min_lon,max_lon)).isel(time=0)\n",
    "ds_subset"
   ]
  },
  {
   "cell_type": "markdown",
   "id": "22e131b7-94f1-4708-a0c3-a81aa7393f11",
   "metadata": {},
   "source": [
    "#### Multifile"
   ]
  },
  {
   "cell_type": "code",
   "execution_count": null,
   "id": "35a7b617-383c-4d4b-8aac-1b32f7e04dc6",
   "metadata": {},
   "outputs": [],
   "source": [
    "import h5netcdf\n",
    "import dask\n",
    "dask.config.set({'array.slicing.split_large_chunks': True})"
   ]
  },
  {
   "cell_type": "code",
   "execution_count": null,
   "id": "b2dd3dac-fcb4-410c-85ba-6603f4b9bf1f",
   "metadata": {},
   "outputs": [],
   "source": [
    "mult_ds = xr.open_mfdataset(\n",
    "    mult_path_test, \n",
    "    engine='h5netcdf',\n",
    "    parallel=True,  # Enable parallel reading\n",
    "    chunks='auto'   # Let dask choose chunk sizes\n",
    ")['NEE']\n",
    "mult_ds"
   ]
  },
  {
   "cell_type": "code",
   "execution_count": null,
   "id": "375d6884-3c11-4a98-994f-33aec7d776dd",
   "metadata": {},
   "outputs": [],
   "source": [
    "ds_subset = mult_ds.sel(lat=slice(min_lat, max_lat), lon=slice(min_lon,max_lon))\n",
    "ds_subset.min().load(), ds_subset.max().load()"
   ]
  },
  {
   "cell_type": "code",
   "execution_count": null,
   "id": "42b4c1a0-a882-4243-8986-27f26e755492",
   "metadata": {},
   "outputs": [],
   "source": [
    "mesh_plot = ds_subset.hvplot(x=\"lon\", y=\"lat\",\n",
    "                      cmap='RdBu_r',\n",
    "                  clim=(-2e-9,3e-8),\n",
    "                      # crs = proj,\n",
    "                      # rasterize=True,\n",
    "                 frame_width = 500,\n",
    "                 # widget_location='bottom'\n",
    "                     )\n",
    "mesh_plot"
   ]
  },
  {
   "cell_type": "code",
   "execution_count": null,
   "id": "dbbb1435-5eff-47d2-b051-b967a883bced",
   "metadata": {},
   "outputs": [],
   "source": [
    "ds_sel = ds_subset.sel(lon=[site_lon], lat=[site_lat], method='nearest')"
   ]
  },
  {
   "cell_type": "code",
   "execution_count": null,
   "id": "9fc855bd-0e9e-4881-982f-71989e6c8db4",
   "metadata": {},
   "outputs": [],
   "source": [
    "point = ds_sel.hvplot.points('lon', 'lat',\n",
    "                             color='yellow',size=150,\n",
    "                              # crs=proj,\n",
    "                              # geo=True\n",
    "                             # widget_location='bottom'\n",
    "                            )\n",
    "type(point)"
   ]
  },
  {
   "cell_type": "code",
   "execution_count": null,
   "id": "269ba940-930d-4a2e-8b4c-1f0cb98dccba",
   "metadata": {},
   "outputs": [],
   "source": [
    "type(mesh_plot), type(point)"
   ]
  },
  {
   "cell_type": "code",
   "execution_count": null,
   "id": "2a4f9125-9f1f-4346-97dc-3bab85990dfa",
   "metadata": {},
   "outputs": [],
   "source": [
    "mesh_plot * point"
   ]
  },
  {
   "cell_type": "code",
   "execution_count": null,
   "id": "f071b359-7f3a-470b-854a-491aed81e2f5",
   "metadata": {},
   "outputs": [],
   "source": [
    "## Let's look at some of the other sites that plot zero, where they are:\n",
    "ID_list = ['US-EDN' , 'US-HB1', 'US-KS3']# example site that is showing up weird\n",
    "filtered_df = fluxnet_meta[fluxnet_meta['Site ID'].isin(ID_list)]\n",
    "filtered_df[['Site ID','Latitude (degrees)','Longitude (degrees)',]]"
   ]
  },
  {
   "cell_type": "code",
   "execution_count": null,
   "id": "b70b6f23-4783-4e29-ab13-a3c38f45199f",
   "metadata": {},
   "outputs": [],
   "source": []
  }
 ],
 "metadata": {
  "kernelspec": {
   "display_name": "fluxnet-model-comparison",
   "language": "python",
   "name": "fluxnet-model-comparison"
  },
  "language_info": {
   "codemirror_mode": {
    "name": "ipython",
    "version": 3
   },
   "file_extension": ".py",
   "mimetype": "text/x-python",
   "name": "python",
   "nbconvert_exporter": "python",
   "pygments_lexer": "ipython3",
   "version": "3.12.11"
  }
 },
 "nbformat": 4,
 "nbformat_minor": 5
}
