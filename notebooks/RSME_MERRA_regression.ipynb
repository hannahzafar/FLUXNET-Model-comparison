{
 "cells": [
  {
   "cell_type": "code",
   "execution_count": null,
   "id": "86fc20f3-7934-4dd1-956c-e6116433539c",
   "metadata": {},
   "outputs": [],
   "source": [
    "import xarray as xr\n",
    "import warnings\n",
    "warnings.filterwarnings(\"ignore\", category=xr.SerializationWarning)\n",
    "import os\n",
    "import sys\n",
    "from pathlib import Path\n",
    "import numpy as np\n",
    "import matplotlib.pyplot as plt\n",
    "from sklearn.metrics import root_mean_squared_error\n",
    "from sklearn.metrics import r2_score"
   ]
  },
  {
   "cell_type": "code",
   "execution_count": null,
   "id": "69f55b09-99c3-49d3-8c96-9570085b1746",
   "metadata": {},
   "outputs": [],
   "source": [
    "parent_dir = os.path.abspath(os.path.join(os.getcwd(), '..'))\n",
    "if parent_dir not in sys.path:\n",
    "    sys.path.append(parent_dir)"
   ]
  },
  {
   "cell_type": "code",
   "execution_count": null,
   "id": "b58fcb87-8a23-4343-879a-d725b3a08378",
   "metadata": {},
   "outputs": [],
   "source": [
    "from config import FLUX_DATA_PATH, FLUX_METADATA, MICASA_PREPROCESSED_DATA, MERRA_DATA_PATH"
   ]
  },
  {
   "cell_type": "code",
   "execution_count": null,
   "id": "88675df5-529e-4b07-a2f0-dd7826544204",
   "metadata": {},
   "outputs": [],
   "source": [
    "from utils.functions import import_flux_metadata, import_site_RMSE_data, polyfit1d_and_plot"
   ]
  },
  {
   "cell_type": "markdown",
   "id": "c0995b59-18ce-4498-9843-939a0f92fb60",
   "metadata": {},
   "source": [
    "## Open virtual datasets"
   ]
  },
  {
   "cell_type": "code",
   "execution_count": null,
   "id": "87ad9708-ef84-4e09-a76e-b78b76e96ed7",
   "metadata": {},
   "outputs": [],
   "source": [
    "# Virtualized dataset path\n",
    "ref_path = os.path.join(MERRA_DATA_FILEPATH, \"virtual_store\")"
   ]
  },
  {
   "cell_type": "code",
   "execution_count": null,
   "id": "99f2dc3f-1265-4592-80d5-cc846241a4aa",
   "metadata": {},
   "outputs": [],
   "source": [
    "ref_url1 = f\"reference::{os.path.join(ref_path, \"vstore1.parquet\")}\"\n",
    "ref_url2 = f\"reference::{os.path.join(ref_path, \"vstore2.parquet\")}\""
   ]
  },
  {
   "cell_type": "code",
   "execution_count": null,
   "id": "46f622ca-0609-4759-b804-ed43d761f58c",
   "metadata": {
    "scrolled": true
   },
   "outputs": [],
   "source": [
    "ds1 = xr.open_dataset(ref_url1, engine=\"zarr\", consolidated=False)"
   ]
  },
  {
   "cell_type": "code",
   "execution_count": null,
   "id": "c8740320-8400-4587-bee1-dcb81fdb3bd5",
   "metadata": {},
   "outputs": [],
   "source": [
    "ds2 = xr.open_dataset(ref_url2, engine=\"zarr\", consolidated=False)"
   ]
  },
  {
   "cell_type": "markdown",
   "id": "5d4d9928-e6a8-43c1-b4d2-d365f3bf6a83",
   "metadata": {},
   "source": [
    "# Should I just average across this whole time for now?"
   ]
  },
  {
   "cell_type": "code",
   "execution_count": null,
   "id": "550e8840-4d0d-4117-9dc5-f3c229af5b96",
   "metadata": {},
   "outputs": [],
   "source": [
    "ds_combined = xr.concat([ds1[\"T2M\"],ds2[\"T2M\"]], dim=\"time\")"
   ]
  },
  {
   "cell_type": "code",
   "execution_count": null,
   "id": "b85819ed-9437-4ce9-a991-5464a0831b74",
   "metadata": {},
   "outputs": [],
   "source": [
    "ds_annavgs = ds_combined.groupby(\"time.year\").mean(\"time\")"
   ]
  },
  {
   "cell_type": "code",
   "execution_count": null,
   "id": "05135730-d353-442d-8ffb-5bfd30f21d6a",
   "metadata": {},
   "outputs": [],
   "source": [
    "ds_totavg = ds_combined.mean(\"time\")"
   ]
  },
  {
   "cell_type": "code",
   "execution_count": null,
   "id": "9d47978a-ca82-49d8-9412-7ee9031142d5",
   "metadata": {},
   "outputs": [],
   "source": [
    "ds_totavg"
   ]
  },
  {
   "cell_type": "markdown",
   "id": "f0c3291d-eddc-4d65-be64-d125bf75df25",
   "metadata": {},
   "source": [
    "# Import RSME values"
   ]
  },
  {
   "cell_type": "code",
   "execution_count": null,
   "id": "a2a2a9f8-b296-4232-8d4e-fd99166cdf36",
   "metadata": {},
   "outputs": [],
   "source": [
    "df_ANN = import_site_RMSE_data(FLUX_METADATA, '../analysis/RMSE_results_ANN.csv')\n",
    "df_ANN"
   ]
  },
  {
   "cell_type": "markdown",
   "id": "22a6e086-5740-48b9-b9da-cb393131d0ca",
   "metadata": {},
   "source": [
    "# Extract values from xarray dataset"
   ]
  },
  {
   "cell_type": "code",
   "execution_count": null,
   "id": "a41b360a-2a47-4939-a226-373d9165490b",
   "metadata": {},
   "outputs": [],
   "source": [
    "# I should move this function to utils (this could speed up preprocessing?)\n",
    "def extract_nearest_xr(df, da):\n",
    "    \"\"\"\n",
    "    Vectorized extraction (more efficient for large datasets)\n",
    "    \"\"\"\n",
    "    # Create arrays of lat/lon values\n",
    "    lats = df['lat'].values\n",
    "    lons = df['lon'].values\n",
    "    \n",
    "    # Use xarray's advanced indexing\n",
    "    selected = da.sel(\n",
    "        lat=xr.DataArray(lats, dims='points'),\n",
    "        lon=xr.DataArray(lons, dims='points'),\n",
    "        method='nearest'\n",
    "    )\n",
    "    \n",
    "    return selected.values"
   ]
  },
  {
   "cell_type": "code",
   "execution_count": null,
   "id": "7f36de48-e6e7-432f-b402-2c5ed1979c81",
   "metadata": {},
   "outputs": [],
   "source": [
    "df_ANN['T2M_avg'] = extract_nearest_xr(df_ANN, ds_totavg)"
   ]
  },
  {
   "cell_type": "code",
   "execution_count": null,
   "id": "01566cfb-26e1-4991-b0ec-65e35d18cef7",
   "metadata": {},
   "outputs": [],
   "source": [
    "df_ANN"
   ]
  },
  {
   "cell_type": "code",
   "execution_count": null,
   "id": "3aa57018-c62d-4536-866a-66e43f7277ac",
   "metadata": {},
   "outputs": [],
   "source": [
    "def polyfit1d_and_plot(df, var1, var2, title):\n",
    "    coef = np.polyfit(df[var1], df[var2], 1)\n",
    "    poly1d_fn = np.poly1d(coef)\n",
    "    r2 = r2_score(df[var1], poly1d_fn(df[var2]))\n",
    "    \n",
    "    fig, ax = plt.subplots(1,1)\n",
    "    ax.scatter(df[var1], df[var2])\n",
    "    ax.plot(df[var1],poly1d_fn(df[var1]), color=\"red\", label=f\"$R^2$: {r2:.2f}\")\n",
    "    ax.set_xlabel(f\"{var1}\")\n",
    "    ax.set_ylabel(\"RMSE (FluxNet vs MiCASA)\")\n",
    "    ax.set_title(title)\n",
    "    ax.legend(loc=\"upper left\")\n",
    "    return fig"
   ]
  },
  {
   "cell_type": "code",
   "execution_count": null,
   "id": "88718d66-7ea4-401d-aa1a-657bd37836a0",
   "metadata": {},
   "outputs": [],
   "source": [
    "polyfit1d_and_plot(df_ANN, \"T2M_avg\", \"NEE_RMSE\", \"NEE RSME vs MERRA2 T2M 30-year (1991-2021) average\");"
   ]
  }
 ],
 "metadata": {
  "kernelspec": {
   "display_name": "fluxnet-model-comparison",
   "language": "python",
   "name": "fluxnet-model-comparison"
  },
  "language_info": {
   "codemirror_mode": {
    "name": "ipython",
    "version": 3
   },
   "file_extension": ".py",
   "mimetype": "text/x-python",
   "name": "python",
   "nbconvert_exporter": "python",
   "pygments_lexer": "ipython3",
   "version": "3.12.11"
  }
 },
 "nbformat": 4,
 "nbformat_minor": 5
}
