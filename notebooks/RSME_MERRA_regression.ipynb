{
 "cells": [
  {
   "cell_type": "markdown",
   "id": "9281bad7-f230-4d8a-9959-d7028a209588",
   "metadata": {},
   "source": [
    "# Imports and functions"
   ]
  },
  {
   "cell_type": "code",
   "execution_count": null,
   "id": "86fc20f3-7934-4dd1-956c-e6116433539c",
   "metadata": {},
   "outputs": [],
   "source": [
    "import xarray as xr\n",
    "import warnings\n",
    "warnings.filterwarnings(\"ignore\", category=xr.SerializationWarning)\n",
    "import os\n",
    "import sys\n",
    "from pathlib import Path\n",
    "import numpy as np\n",
    "import pandas as pd\n",
    "import matplotlib.pyplot as plt"
   ]
  },
  {
   "cell_type": "code",
   "execution_count": null,
   "id": "69f55b09-99c3-49d3-8c96-9570085b1746",
   "metadata": {},
   "outputs": [],
   "source": [
    "parent_dir = os.path.abspath(os.path.join(os.getcwd(), '..'))\n",
    "if parent_dir not in sys.path:\n",
    "    sys.path.append(parent_dir)"
   ]
  },
  {
   "cell_type": "code",
   "execution_count": null,
   "id": "b58fcb87-8a23-4343-879a-d725b3a08378",
   "metadata": {},
   "outputs": [],
   "source": [
    "from config import FLUX_DATA_PATH, FLUX_METADATA, MICASA_PREPROCESSED_DATA, MERRA_DATA_PATH"
   ]
  },
  {
   "cell_type": "code",
   "execution_count": null,
   "id": "88675df5-529e-4b07-a2f0-dd7826544204",
   "metadata": {},
   "outputs": [],
   "source": [
    "from utils.functions import import_flux_metadata, import_site_RMSE_data"
   ]
  },
  {
   "cell_type": "code",
   "execution_count": null,
   "id": "31bc0e09-974e-4d13-ac49-84fa41387622",
   "metadata": {},
   "outputs": [],
   "source": [
    "from utils.plotting import polyfit1d_and_plot"
   ]
  },
  {
   "cell_type": "markdown",
   "id": "c0995b59-18ce-4498-9843-939a0f92fb60",
   "metadata": {},
   "source": [
    "# Open and combine virtual datasets"
   ]
  },
  {
   "cell_type": "code",
   "execution_count": null,
   "id": "87ad9708-ef84-4e09-a76e-b78b76e96ed7",
   "metadata": {},
   "outputs": [],
   "source": [
    "# Virtualized dataset path\n",
    "ref_path = os.path.join(MERRA_DATA_PATH, \"virtual_store\")"
   ]
  },
  {
   "cell_type": "code",
   "execution_count": null,
   "id": "99f2dc3f-1265-4592-80d5-cc846241a4aa",
   "metadata": {},
   "outputs": [],
   "source": [
    "ref_url1 = f\"reference::{os.path.join(ref_path, \"vstore1.parquet\")}\"\n",
    "ref_url2 = f\"reference::{os.path.join(ref_path, \"vstore2.parquet\")}\""
   ]
  },
  {
   "cell_type": "code",
   "execution_count": null,
   "id": "46f622ca-0609-4759-b804-ed43d761f58c",
   "metadata": {
    "scrolled": true
   },
   "outputs": [],
   "source": [
    "ds1 = xr.open_dataset(ref_url1, engine=\"zarr\", consolidated=False)"
   ]
  },
  {
   "cell_type": "code",
   "execution_count": null,
   "id": "c8740320-8400-4587-bee1-dcb81fdb3bd5",
   "metadata": {},
   "outputs": [],
   "source": [
    "ds2 = xr.open_dataset(ref_url2, engine=\"zarr\", consolidated=False)"
   ]
  },
  {
   "cell_type": "code",
   "execution_count": null,
   "id": "215b07b2-3432-4c8f-9c7b-237b07592928",
   "metadata": {},
   "outputs": [],
   "source": [
    "ds2[\"T2M\"]"
   ]
  },
  {
   "cell_type": "code",
   "execution_count": null,
   "id": "550e8840-4d0d-4117-9dc5-f3c229af5b96",
   "metadata": {},
   "outputs": [],
   "source": [
    "ds_combined = xr.concat([ds1[\"T2M\"],ds2[\"T2M\"]], dim=\"time\")"
   ]
  },
  {
   "cell_type": "code",
   "execution_count": null,
   "id": "c5049822-b70b-4475-889a-6936c4846e89",
   "metadata": {},
   "outputs": [],
   "source": [
    "# Replace missing values with NaN\n",
    "ds_combined = ds_combined.where(ds_combined!=999999986991104, np.nan)"
   ]
  },
  {
   "cell_type": "code",
   "execution_count": null,
   "id": "d466b104-e7cf-47fb-8346-efcb1d009ea9",
   "metadata": {},
   "outputs": [],
   "source": [
    "# ds_combined"
   ]
  },
  {
   "cell_type": "markdown",
   "id": "f0c3291d-eddc-4d65-be64-d125bf75df25",
   "metadata": {},
   "source": [
    "# Import RSME values"
   ]
  },
  {
   "cell_type": "code",
   "execution_count": null,
   "id": "8c20b89f-d97e-42bc-b9ab-4c9d80046945",
   "metadata": {},
   "outputs": [],
   "source": [
    "df_ANN = import_site_RMSE_data(FLUX_METADATA, '../analysis/RMSE_results_ANN.csv')"
   ]
  },
  {
   "cell_type": "code",
   "execution_count": null,
   "id": "2e6cb8a4-5647-4745-b0fb-bd10ecc8f6bc",
   "metadata": {
    "scrolled": true
   },
   "outputs": [],
   "source": [
    "df_ANN.head()"
   ]
  },
  {
   "cell_type": "markdown",
   "id": "f21d1726-9c48-42cf-bb75-71123bf8b3a6",
   "metadata": {},
   "source": [
    "# Total 30 year averages"
   ]
  },
  {
   "cell_type": "code",
   "execution_count": null,
   "id": "05135730-d353-442d-8ffb-5bfd30f21d6a",
   "metadata": {},
   "outputs": [],
   "source": [
    "ds_totavg = ds_combined.mean(\"time\")"
   ]
  },
  {
   "cell_type": "code",
   "execution_count": null,
   "id": "9d47978a-ca82-49d8-9412-7ee9031142d5",
   "metadata": {},
   "outputs": [],
   "source": [
    "ds_totavg"
   ]
  },
  {
   "cell_type": "markdown",
   "id": "22a6e086-5740-48b9-b9da-cb393131d0ca",
   "metadata": {},
   "source": [
    "### Extract subset of values from xarray dataset"
   ]
  },
  {
   "cell_type": "code",
   "execution_count": null,
   "id": "a41b360a-2a47-4939-a226-373d9165490b",
   "metadata": {},
   "outputs": [],
   "source": [
    "# I should move this function to utils (this could speed up preprocessing?)\n",
    "def nearest_da(df, da):\n",
    "    \"\"\"\n",
    "    Vectorized extraction (more efficient for large datasets)\n",
    "    \"\"\"\n",
    "    # Create arrays of lat/lon values\n",
    "    lats = df['lat'].values\n",
    "    lons = df['lon'].values\n",
    "    \n",
    "    # Use xarray's advanced indexing\n",
    "    selected = da.sel(\n",
    "        lat=xr.DataArray(lats, dims='points'),\n",
    "        lon=xr.DataArray(lons, dims='points'),\n",
    "        method='nearest'\n",
    "    )\n",
    "    \n",
    "    return selected"
   ]
  },
  {
   "cell_type": "code",
   "execution_count": null,
   "id": "29855965-350b-4914-931b-71a20a29471e",
   "metadata": {},
   "outputs": [],
   "source": [
    "nearest_da(df_ANN, ds_totavg)"
   ]
  },
  {
   "cell_type": "code",
   "execution_count": null,
   "id": "7f36de48-e6e7-432f-b402-2c5ed1979c81",
   "metadata": {},
   "outputs": [],
   "source": [
    "df_ANN_tot = df_ANN.copy()\n",
    "df_ANN_tot['T2M_avg'] = nearest_da(df_ANN, ds_totavg).values"
   ]
  },
  {
   "cell_type": "code",
   "execution_count": null,
   "id": "01566cfb-26e1-4991-b0ec-65e35d18cef7",
   "metadata": {},
   "outputs": [],
   "source": [
    "df_ANN_tot.head()"
   ]
  },
  {
   "cell_type": "code",
   "execution_count": null,
   "id": "453f35ba-f3d7-40c6-b5ad-bc3e82dc24d2",
   "metadata": {},
   "outputs": [],
   "source": [
    "xlabel = '2-meter Temperature (K)\\n30-Yr Average (1991-2021)'"
   ]
  },
  {
   "cell_type": "code",
   "execution_count": null,
   "id": "88718d66-7ea4-401d-aa1a-657bd37836a0",
   "metadata": {},
   "outputs": [],
   "source": [
    "polyfit1d_and_plot(df_ANN_tot, \"T2M_avg\", \"NEE_RMSE\", xlabel, \"NEE RSME vs MERRA2 T2M\");"
   ]
  },
  {
   "cell_type": "markdown",
   "id": "47159cdc-dde5-4fbe-a3fd-fe1ee9e86752",
   "metadata": {},
   "source": [
    "# Selective Year Average\n",
    "### (Only average across years for each site from \"Years of AmeriFlux data column\")"
   ]
  },
  {
   "cell_type": "code",
   "execution_count": null,
   "id": "a2a2a9f8-b296-4232-8d4e-fd99166cdf36",
   "metadata": {},
   "outputs": [],
   "source": [
    "df_ANN = df_ANN.rename(columns = {'Years of AmeriFlux FLUXNET Data' : \"YEARS_DATA\"})"
   ]
  },
  {
   "cell_type": "code",
   "execution_count": null,
   "id": "8ac2e42d-167c-4611-81f7-917c94bb7987",
   "metadata": {},
   "outputs": [],
   "source": [
    "def parse_years(year_string):\n",
    "    if pd.isna(year_string): \n",
    "        return []\n",
    "    return [int(year.strip()) for year in year_string.split(',')]"
   ]
  },
  {
   "cell_type": "code",
   "execution_count": null,
   "id": "ff2752df-695f-4990-b2e6-ce37e355b2d1",
   "metadata": {},
   "outputs": [],
   "source": [
    "df_ANN[\"YEARS_DATA\"] = df_ANN[\"YEARS_DATA\"].apply(parse_years)"
   ]
  },
  {
   "cell_type": "code",
   "execution_count": null,
   "id": "b3b57848-e673-4c9d-bac1-ff75e4c0b8f9",
   "metadata": {},
   "outputs": [],
   "source": [
    "df_ANN.head()"
   ]
  },
  {
   "cell_type": "code",
   "execution_count": null,
   "id": "b85819ed-9437-4ce9-a991-5464a0831b74",
   "metadata": {},
   "outputs": [],
   "source": [
    "ds_annavgs = ds_combined.groupby(\"time.year\").mean(\"time\")"
   ]
  },
  {
   "cell_type": "code",
   "execution_count": null,
   "id": "378d9695-06b9-4dff-b360-041acf484e07",
   "metadata": {},
   "outputs": [],
   "source": [
    "test_ds = nearest_da(df_ANN, ds_annavgs)"
   ]
  },
  {
   "cell_type": "code",
   "execution_count": null,
   "id": "0d40dd75-ca4b-49d7-a041-5841ee5353c4",
   "metadata": {},
   "outputs": [],
   "source": [
    "test_ds"
   ]
  },
  {
   "cell_type": "markdown",
   "id": "3d6bab1b-51dd-41c5-a599-62cecac3bf99",
   "metadata": {},
   "source": [
    "### Create a mask to select only years of interest for each lat/lon"
   ]
  },
  {
   "cell_type": "code",
   "execution_count": null,
   "id": "65442800-4bde-4860-babb-250f64cfeb57",
   "metadata": {},
   "outputs": [],
   "source": [
    "mask = np.zeros_like(test_ds, dtype=bool)\n",
    "mask.shape"
   ]
  },
  {
   "cell_type": "code",
   "execution_count": null,
   "id": "8385f2fc-9518-48d1-a6ae-c0c255513ec6",
   "metadata": {},
   "outputs": [],
   "source": [
    "for i, yrs in enumerate(df_ANN[\"YEARS_DATA\"]):\n",
    "    test = np.isin(test_ds.year, yrs)\n",
    "    mask[np.isin(test_ds.year, yrs), i] = True\n",
    "    \n",
    "means = test_ds.where(mask).mean('year')"
   ]
  },
  {
   "cell_type": "code",
   "execution_count": null,
   "id": "83618fb1-1630-4672-bd1c-7d2995940647",
   "metadata": {},
   "outputs": [],
   "source": [
    "df_ANN_sub = df_ANN.copy()\n",
    "df_ANN_sub['T2M_avg'] = means.values"
   ]
  },
  {
   "cell_type": "code",
   "execution_count": null,
   "id": "84856b4d-421d-4304-bedf-775d98741657",
   "metadata": {},
   "outputs": [],
   "source": [
    "df_ANN_sub.head()"
   ]
  },
  {
   "cell_type": "code",
   "execution_count": null,
   "id": "2c0bf0ec-f2f7-4c69-a9a7-9beff14dcd5b",
   "metadata": {},
   "outputs": [],
   "source": [
    "xlabel = '2-meter Temperature (K)\\nAveraged Across Years of Available Data'"
   ]
  },
  {
   "cell_type": "code",
   "execution_count": null,
   "id": "350d5f7a-a5ad-4693-8db9-066be0c59dec",
   "metadata": {},
   "outputs": [],
   "source": [
    "polyfit1d_and_plot(df_ANN_sub, \"T2M_avg\", \"NEE_RMSE\", xlabel, \"NEE RSME vs MERRA2 T2M\");"
   ]
  }
 ],
 "metadata": {
  "kernelspec": {
   "display_name": "fluxnet-model-comparison",
   "language": "python",
   "name": "fluxnet-model-comparison"
  },
  "language_info": {
   "codemirror_mode": {
    "name": "ipython",
    "version": 3
   },
   "file_extension": ".py",
   "mimetype": "text/x-python",
   "name": "python",
   "nbconvert_exporter": "python",
   "pygments_lexer": "ipython3",
   "version": "3.12.11"
  }
 },
 "nbformat": 4,
 "nbformat_minor": 5
}
