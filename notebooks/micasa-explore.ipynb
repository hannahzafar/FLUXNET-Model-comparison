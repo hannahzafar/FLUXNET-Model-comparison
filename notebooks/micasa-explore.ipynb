{
 "cells": [
  {
   "cell_type": "code",
   "execution_count": null,
   "id": "dcaa1c19-3e34-40c6-a4de-5603a7208996",
   "metadata": {},
   "outputs": [],
   "source": [
    "import matplotlib as mpl\n",
    "import matplotlib.pyplot as plt\n",
    "import xarray as xr\n",
    "import pandas as pd\n",
    "from cartopy import crs as ccrs, feature as cfeature\n",
    "import datetime\n",
    "from matplotlib.animation import FuncAnimation\n",
    "plt.rcParams[\"animation.html\"] = \"jshtml\" #for jupyterlab display\n",
    "import glob\n",
    "import geoviews as gv\n",
    "import hvplot.xarray\n",
    "import holoviews as hv\n",
    "import bokeh\n",
    "import numpy as np"
   ]
  },
  {
   "cell_type": "code",
   "execution_count": null,
   "id": "9b4fb335-3cfc-42ba-b958-79d640bbc08f",
   "metadata": {},
   "outputs": [],
   "source": [
    "# import cartopy\n",
    "# print(cartopy.__version__)"
   ]
  },
  {
   "cell_type": "code",
   "execution_count": null,
   "id": "99ee5273-8f1c-4fb6-8d7d-d500a1e67dba",
   "metadata": {},
   "outputs": [],
   "source": [
    "def get_single_match(pattern):\n",
    "    matches = glob.glob(pattern)\n",
    "    if len(matches) == 1:\n",
    "        return matches[0]\n",
    "    elif len(matches) == 0:\n",
    "        raise ValueError(f\"No matches found\")\n",
    "    else:\n",
    "        raise ValueError(f\"Multiple matches found: {matches}\")"
   ]
  },
  {
   "cell_type": "markdown",
   "id": "1dc31202-cb42-4689-88b1-6d968244ae84",
   "metadata": {
    "jp-MarkdownHeadingCollapsed": true
   },
   "source": [
    "## Open 1 Month: 09 2024 "
   ]
  },
  {
   "cell_type": "code",
   "execution_count": null,
   "id": "24ae71d7-a682-4b46-8e65-816607810723",
   "metadata": {},
   "outputs": [],
   "source": [
    "# %cd FLUXNET-Model-comparison/notebooks/"
   ]
  },
  {
   "cell_type": "code",
   "execution_count": null,
   "id": "c4435cbe-9c26-48bc-9ea2-fd58ec66c50b",
   "metadata": {},
   "outputs": [],
   "source": [
    "filepath = '../../micasa-data/3hrly/2024/09/MiCASA_v1_flux_x3600_y1800_3hrly_202409*.nc4'\n",
    "ds = xr.open_mfdataset(filepath, combine=\"by_coords\", chunks={})['NEE']\n",
    "ds"
   ]
  },
  {
   "cell_type": "markdown",
   "id": "5a2c0167-edc1-482c-8721-96f79bfb7aee",
   "metadata": {
    "jp-MarkdownHeadingCollapsed": true
   },
   "source": [
    "## Open 1 day (1 month daily avg looks all the same)"
   ]
  },
  {
   "cell_type": "code",
   "execution_count": null,
   "id": "d6a3fa93-2448-4670-af55-6c4737731659",
   "metadata": {},
   "outputs": [],
   "source": [
    "filepath = '../../micasa-data/3hrly/2015/01/MiCASA_v1_flux_x3600_y1800_3hrly_20150101.nc4'\n",
    "ds = xr.open_dataset(filepath)\n",
    "ds"
   ]
  },
  {
   "cell_type": "markdown",
   "id": "abcea113-0756-4917-979a-404d05acabf3",
   "metadata": {},
   "source": [
    "## Preprocess"
   ]
  },
  {
   "cell_type": "code",
   "execution_count": null,
   "id": "0b3d1620-406c-48ab-981c-034d922e55ec",
   "metadata": {},
   "outputs": [],
   "source": [
    "# Plot only North America, drop unused lat/lon\n",
    "min_lon, max_lon = -170, -30\n",
    "min_lat, max_lat = 10, 70\n",
    "proj=ccrs.PlateCarree()"
   ]
  },
  {
   "cell_type": "code",
   "execution_count": null,
   "id": "151bcf28-69b6-4329-8f48-7f22ccf9473f",
   "metadata": {},
   "outputs": [],
   "source": [
    "ds_subset = ds.sel(lat=slice(min_lat, max_lat), lon=slice(min_lon,max_lon))\n",
    "\n",
    "# mask zeroes\n",
    "ds_subset = ds_subset.where(ds_subset != 0)"
   ]
  },
  {
   "cell_type": "code",
   "execution_count": null,
   "id": "d3d121bb-2bd3-42a9-8161-da5d05d271fa",
   "metadata": {},
   "outputs": [],
   "source": [
    "ds_plot = ds_subset['NEE']\n",
    "ds_plot"
   ]
  },
  {
   "cell_type": "markdown",
   "id": "7529ca4f-98b4-4015-926b-a275f1521e02",
   "metadata": {},
   "source": [
    "# Hvplot, which can run via bokeh or matplotlib in the backend:"
   ]
  },
  {
   "cell_type": "code",
   "execution_count": null,
   "id": "a9cedfa1-c08b-4228-8fb1-8115cf777814",
   "metadata": {},
   "outputs": [],
   "source": [
    "from bokeh.models import PrintfTickFormatter\n",
    "formatter = PrintfTickFormatter(format=\"%0e\")\n",
    "plot_opts = dict(colorbar=True, colorbar_opts={'formatter': formatter})"
   ]
  },
  {
   "cell_type": "markdown",
   "id": "17b23403-c598-47d6-9877-fc1347f20b3c",
   "metadata": {},
   "source": [
    "## Bokeh backend"
   ]
  },
  {
   "cell_type": "markdown",
   "id": "36e26a54-66eb-4d06-b1d7-154e831de6bd",
   "metadata": {},
   "source": [
    "### Widget slider won't change??"
   ]
  },
  {
   "cell_type": "code",
   "execution_count": null,
   "id": "f810c9e3-f551-4901-941e-d91c13f18c7f",
   "metadata": {},
   "outputs": [],
   "source": [
    "hv.extension('bokeh') \n",
    "plot = ds_plot.hvplot.image(x=\"lon\", y=\"lat\", \n",
    "                                   groupby='time',\n",
    "                       cmap='RdBu_r', colorbar=True,\n",
    "                       clim=(-4e-7,4e-7),\n",
    "                            geo=True, \n",
    "                            # projection=proj,\n",
    "                            crs = proj,\n",
    "                            # rasterize=True, \n",
    "                        # tiles='EsriImagery',\n",
    "                      clabel='NEE (kg m-2 s-1)')\n",
    "\n",
    "plot.opts(colorbar_opts={'formatter': formatter})\n",
    "plot"
   ]
  },
  {
   "cell_type": "markdown",
   "id": "fd6d6214-ff74-4a8c-baac-a7d9c90b5ad8",
   "metadata": {},
   "source": [
    "### Still doesn't work:"
   ]
  },
  {
   "cell_type": "code",
   "execution_count": null,
   "id": "d31cb0a1-6d7a-4425-8605-d283ddba34da",
   "metadata": {},
   "outputs": [],
   "source": [
    "vmin = -max(abs(ds_plot.min().values),abs(ds_plot.max().values))\n",
    "vmax = max(abs(ds_plot.min().values),abs(ds_plot.max().values))\n",
    "\n",
    "ds_plot.hvplot(cmap='seismic',groupby='time', clim=(vmin,vmax),\n",
    "             # geo=True, \n",
    "            projection=proj,\n",
    "            xlim=(min_lon, max_lon), \n",
    "            ylim=(min_lat, max_lat),\n",
    "            widget_type=\"scrubber\", \n",
    "            framewise=True,\n",
    "            widget_location=\"bottom\",\n",
    "                clabel='NEE (kg m-2 s-1)')"
   ]
  },
  {
   "cell_type": "markdown",
   "id": "72d93683-c9fd-4296-b3c2-8bb59d4fc897",
   "metadata": {},
   "source": [
    "# Matplotlib backend"
   ]
  },
  {
   "cell_type": "code",
   "execution_count": null,
   "id": "e58c37e2-5c82-4cb3-8105-9fa93ffd65a8",
   "metadata": {},
   "outputs": [],
   "source": [
    "# Try mpl backend\n",
    "hv.extension('matplotlib')\n",
    "plot = ds_plot.hvplot.image(x=\"lon\", y=\"lat\", \n",
    "                       cmap='RdBu_r', colorbar=True,\n",
    "                       clim=(-4e-7,4e-7),\n",
    "                            geo=True, \n",
    "                            rasterize=True, \n",
    "                      clabel='NEE (kg m-2 s-1)')"
   ]
  },
  {
   "cell_type": "code",
   "execution_count": null,
   "id": "a7c7aa65-153d-460d-90d9-ead2069dff0e",
   "metadata": {},
   "outputs": [],
   "source": [
    "plot"
   ]
  },
  {
   "cell_type": "markdown",
   "id": "bf047e09-905b-4509-b132-bbd693bb5d6b",
   "metadata": {},
   "source": [
    "### Same issue as above"
   ]
  },
  {
   "cell_type": "code",
   "execution_count": null,
   "id": "88699f25-e067-4d75-a3dc-32ed604b7031",
   "metadata": {},
   "outputs": [],
   "source": [
    "# hv.help(hv.Image)"
   ]
  },
  {
   "cell_type": "code",
   "execution_count": null,
   "id": "4c03fbb3-5f8f-4adc-ac04-36dba40d74df",
   "metadata": {},
   "outputs": [],
   "source": [
    "# fig, ax = plt.subplots(figsize=(8,6),subplot_kw= {'projection': ccrs.PlateCarree()});\n",
    "# ax.set_extent([min_lon, max_lon,min_lat, max_lat], crs=proj);\n",
    "# # ax.coastlines()\n",
    "# # ax.add_feature(cfeature.LAND)\n",
    "# ax.add_feature(cfeature.OCEAN)"
   ]
  },
  {
   "cell_type": "markdown",
   "id": "a0962021-fa60-453c-8405-c788bec4d278",
   "metadata": {},
   "source": [
    "# OLD Matplotlib animation (one day 01/01/2015)"
   ]
  },
  {
   "cell_type": "code",
   "execution_count": null,
   "id": "f5ac11d9-d722-4744-87cf-9cd064d71dfa",
   "metadata": {},
   "outputs": [],
   "source": [
    "# Animation func\n",
    "def animate(frame):\n",
    "    ax.clear()\n",
    "    ax.set_extent([-170,-30,-60,90], crs=ccrs.PlateCarree())\n",
    "    \n",
    "    plot = ds.isel(time=frame).plot.pcolormesh(\n",
    "        ax=ax,\n",
    "        add_colorbar=False,\n",
    "        )\n",
    "    title = str(ds.isel(time=frame)['time'].dt.strftime('%b %d %Y %H:%M').values)\n",
    "    ax.set_title(title,pad=0)\n",
    "    return plot"
   ]
  },
  {
   "cell_type": "code",
   "execution_count": null,
   "id": "003c2f95-d35d-4e9f-bcf9-5148a564e593",
   "metadata": {
    "scrolled": true
   },
   "outputs": [],
   "source": [
    "filepath = '../../micasa-data/3hrly/2015/01/MiCASA_v1_flux_x3600_y1800_3hrly_20150101.nc4'\n",
    "ds = xr.open_dataset(filepath)\n",
    "ds"
   ]
  },
  {
   "cell_type": "code",
   "execution_count": null,
   "id": "653efda1-3488-4e35-8148-b73ab3977f86",
   "metadata": {},
   "outputs": [],
   "source": [
    "ds = ds['NEE']"
   ]
  },
  {
   "cell_type": "code",
   "execution_count": null,
   "id": "3ac58bc0-e637-40e7-82b9-12b91c70761f",
   "metadata": {},
   "outputs": [],
   "source": [
    "# Initial plot\n",
    "plt.ioff()\n",
    "fig, ax = plt.subplots(figsize=(8,6),subplot_kw= {'projection': ccrs.PlateCarree()});\n",
    "ax.set_extent([-170,-30,-60,90], crs=ccrs.PlateCarree());\n",
    "initial_plot = ds.isel(time=0).plot.pcolormesh(ax=ax);\n",
    "title = str(ds.isel(time=0)['time'].dt.strftime('%b %d %Y').values);\n",
    "ax.set_title(title,pad=-0.1);\n",
    "\n",
    "# Run animation\n",
    "anim = FuncAnimation(fig=fig, func=animate, frames=len(ds.time))\n",
    "anim"
   ]
  },
  {
   "cell_type": "code",
   "execution_count": null,
   "id": "5b128748-ca8c-43a1-a4e7-de9be2cd416f",
   "metadata": {},
   "outputs": [],
   "source": [
    "# ax.set_extent([min_lon, max_lon,min_lat, max_lat], crs=proj);\n",
    "# ax.coastlines()\n",
    "# ax.add_feature(cfeature.LAND)\n",
    "# ax.add_feature(cfeature.OCEAN)"
   ]
  },
  {
   "cell_type": "code",
   "execution_count": null,
   "id": "2a1d14e0-086b-4b83-a119-0274783c5601",
   "metadata": {},
   "outputs": [],
   "source": [
    "# Save output\n",
    "# anim.save(filename=\"micasa_testanimation.gif\", writer=\"pillow\")"
   ]
  }
 ],
 "metadata": {
  "kernelspec": {
   "display_name": "notebooks",
   "language": "python",
   "name": "notebooks"
  },
  "language_info": {
   "codemirror_mode": {
    "name": "ipython",
    "version": 3
   },
   "file_extension": ".py",
   "mimetype": "text/x-python",
   "name": "python",
   "nbconvert_exporter": "python",
   "pygments_lexer": "ipython3",
   "version": "3.12.11"
  }
 },
 "nbformat": 4,
 "nbformat_minor": 5
}
