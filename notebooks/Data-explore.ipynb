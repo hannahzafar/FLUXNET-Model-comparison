{
 "cells": [
  {
   "cell_type": "markdown",
   "id": "f359fe80-8997-4297-a8ac-5fa74225dbfe",
   "metadata": {},
   "source": [
    "# Explore workflows to add to .py scripts"
   ]
  },
  {
   "cell_type": "markdown",
   "id": "bc12a2f4-ee76-4102-b0ef-289d42abb5da",
   "metadata": {},
   "source": [
    "## Define Variables / Import MetaData"
   ]
  },
  {
   "cell_type": "code",
   "execution_count": null,
   "id": "1b80861a-5117-4e9b-818a-81018bff7057",
   "metadata": {},
   "outputs": [],
   "source": [
    "import os\n",
    "import sys\n",
    "from pathlib import Path"
   ]
  },
  {
   "cell_type": "code",
   "execution_count": null,
   "id": "373c8c05-354f-4662-8da3-5d17874a8637",
   "metadata": {},
   "outputs": [],
   "source": [
    "import numpy as np\n",
    "import matplotlib.pyplot as plt\n",
    "import matplotlib.colors as colors\n",
    "import matplotlib.dates as mdates\n",
    "from cartopy import crs as ccrs \n",
    "import cartopy.feature as cfeature\n",
    "import pandas as pd\n",
    "import hvplot.pandas\n",
    "import xarray as xr\n",
    "import hvplot.xarray\n",
    "import geoviews.feature as gf\n",
    "from sklearn.metrics import root_mean_squared_error\n",
    "from adjustText import adjust_text"
   ]
  },
  {
   "cell_type": "markdown",
   "id": "16f96c4a-219a-4007-9a59-541320b97ca6",
   "metadata": {},
   "source": [
    "## Functions"
   ]
  },
  {
   "cell_type": "code",
   "execution_count": null,
   "id": "247b1b88-acac-4bd5-aef3-c5024f43a42f",
   "metadata": {},
   "outputs": [],
   "source": [
    "parent_dir = os.path.abspath(os.path.join(os.getcwd(), '..'))\n",
    "if parent_dir not in sys.path:\n",
    "    sys.path.append(parent_dir)"
   ]
  },
  {
   "cell_type": "code",
   "execution_count": null,
   "id": "75307faa-1b40-4fbe-9b54-8be0d41ce292",
   "metadata": {},
   "outputs": [],
   "source": [
    "from utils.functions import import_flux_metadata, import_flux_site_data, convert_flux_to_micasa_units, replace_outliers_with_nan, clean_flux_datasets "
   ]
  },
  {
   "cell_type": "markdown",
   "id": "7295d926-7563-40b7-8ffe-4e278f02aa89",
   "metadata": {},
   "source": [
    "## Define variables "
   ]
  },
  {
   "cell_type": "code",
   "execution_count": null,
   "id": "6b0e20ae-ce58-4b1b-a519-e878327e099f",
   "metadata": {},
   "outputs": [],
   "source": [
    "# I can't get the config.py to work in jupyternotebook because it does not know where $NOBACKUP is\n",
    "amer_filepath = '../../ameriflux-data/'\n",
    "mic_filepath = '../preprocessing/intermediates/'"
   ]
  },
  {
   "cell_type": "code",
   "execution_count": null,
   "id": "9e30c3f4-4a2f-405c-b277-f354ccdb53db",
   "metadata": {},
   "outputs": [],
   "source": [
    "FLUX_DATA_PATH = Path(amer_filepath)\n",
    "FLUX_METADATA = Path(FLUX_DATA_PATH, \"AmeriFlux-site-search-results-202410071335.tsv\")\n",
    "MICASA_PREPROCESSED_DATA = Path(mic_filepath)"
   ]
  },
  {
   "cell_type": "code",
   "execution_count": null,
   "id": "adcf7c0a-d295-4658-90f5-f7c0088197d8",
   "metadata": {},
   "outputs": [],
   "source": [
    "timedelta = \"DD\""
   ]
  },
  {
   "cell_type": "code",
   "execution_count": null,
   "id": "b8592b63-873b-4f4f-8b20-30378804cd76",
   "metadata": {},
   "outputs": [],
   "source": [
    "# set map proj\n",
    "proj=ccrs.PlateCarree()"
   ]
  },
  {
   "cell_type": "code",
   "execution_count": null,
   "id": "6f1ee8ba-0d6a-46fb-bb16-05087f9040ac",
   "metadata": {},
   "outputs": [],
   "source": [
    "fluxnet_meta = import_flux_metadata(FLUX_METADATA)"
   ]
  },
  {
   "cell_type": "code",
   "execution_count": null,
   "id": "79dd2dbe-7709-4407-9fd9-d1e1f70d8f31",
   "metadata": {},
   "outputs": [],
   "source": [
    "# Define site ID\n",
    "# site_ID = 'CA-MA1'\n",
    "# site_ID = 'CA-DBB'\n",
    "# site_ID = 'CA-LP1'\n",
    "# site_ID = 'AR-TF1'\n",
    "# site_ID = 'BR-CST'\n",
    "site_ID = 'US-Wi3'"
   ]
  },
  {
   "cell_type": "code",
   "execution_count": null,
   "id": "1456bfe7-896a-4f82-861b-8cfc04d5488c",
   "metadata": {},
   "outputs": [],
   "source": [
    "site_lat = fluxnet_meta.loc[\n",
    "    fluxnet_meta[\"Site ID\"] == site_ID, \"Latitude (degrees)\"\n",
    "].values\n",
    "site_lon = fluxnet_meta.loc[\n",
    "    fluxnet_meta[\"Site ID\"] == site_ID, \"Longitude (degrees)\"\n",
    "].values"
   ]
  },
  {
   "cell_type": "markdown",
   "id": "55e02d3d-e4d2-4a66-9d58-9cd526681de4",
   "metadata": {},
   "source": [
    "## Plotting"
   ]
  },
  {
   "cell_type": "code",
   "execution_count": null,
   "id": "2c7f385d-bf07-4d09-8ed6-041ffa90e4af",
   "metadata": {},
   "outputs": [],
   "source": [
    "fluxnet_sel = import_flux_site_data(FLUX_DATA_PATH, site_ID, timedelta)\n",
    "fluxnet_sel"
   ]
  },
  {
   "cell_type": "code",
   "execution_count": null,
   "id": "9f777795-539f-4620-a5ce-8b5e54d31ffc",
   "metadata": {},
   "outputs": [],
   "source": [
    "cols = fluxnet_sel.columns.tolist()\n",
    "list = [cols[0], cols[-1]]\n",
    "list"
   ]
  },
  {
   "cell_type": "code",
   "execution_count": null,
   "id": "0dcd7d12-bd5d-40aa-8d2a-03874f213457",
   "metadata": {},
   "outputs": [],
   "source": [
    "new_list = [\"NEE (kgC m-2 s-1)\", \"GPP_DT (kgC m-2 s-1)\"]"
   ]
  },
  {
   "cell_type": "code",
   "execution_count": null,
   "id": "8bde3511-f503-4648-aeb9-b6540baa3be9",
   "metadata": {},
   "outputs": [],
   "source": [
    "for old, new in zip(list, new_list):\n",
    "   fluxnet_sel = convert_flux_to_micasa_units(fluxnet_sel, old, new)\n",
    "   fluxnet_sel = clean_flux_datasets(fluxnet_sel, new, \"NEE_VUT_REF_QC\") "
   ]
  },
  {
   "cell_type": "code",
   "execution_count": null,
   "id": "773ce096-307f-4e7c-bf1d-3a12232956e5",
   "metadata": {},
   "outputs": [],
   "source": [
    "fluxnet_sel"
   ]
  },
  {
   "cell_type": "code",
   "execution_count": null,
   "id": "d98cb769-064e-48e2-825e-89b7a845186a",
   "metadata": {},
   "outputs": [],
   "source": [
    "# Mask GPP outliers\n",
    "fluxnet_sel = replace_outliers_with_nan(fluxnet_sel, \"GPP_DT (kgC m-2 s-1)\")"
   ]
  },
  {
   "cell_type": "code",
   "execution_count": null,
   "id": "558ab32e-e4c0-4294-ab27-2ec715f16086",
   "metadata": {},
   "outputs": [],
   "source": [
    "############ Import Preprocessed Micasa Data ################\n",
    "filename = f\"{site_ID}_micasa_{timedelta}.csv\"\n",
    "path = os.path.join(MICASA_PREPROCESSED_DATA, filename)\n",
    "micasa_ds = pd.read_csv(path, index_col=0, parse_dates=True)\n",
    "\n",
    "############## Append datasets #########################\n",
    "# Make clean dataframe and append together\n",
    "## NEE\n",
    "NEE_ds = pd.DataFrame()\n",
    "NEE_ds[\"MiCASA\"] = micasa_ds[\"MiCASA NEE (kg m-2 s-1)\"]\n",
    "NEE_ds[\"FluxNet\"] = fluxnet_sel[\"NEE (kgC m-2 s-1)\"]"
   ]
  },
  {
   "cell_type": "code",
   "execution_count": null,
   "id": "ff9f89c2-c9d2-4194-a5e6-afa90aa52368",
   "metadata": {},
   "outputs": [],
   "source": [
    "NEE_ds.plot()"
   ]
  },
  {
   "cell_type": "code",
   "execution_count": null,
   "id": "625de1c8-1ff8-4d4f-b844-ca84b4ffcabb",
   "metadata": {},
   "outputs": [],
   "source": [
    "# NPP\n",
    "NPP_ds = pd.DataFrame()\n",
    "NPP_ds[\"MiCASA\"] = micasa_ds[\"MiCASA NPP (kg m-2 s-1)\"]\n",
    "NPP_ds[\"FluxNet DT GPP/2\"] = fluxnet_sel[\"GPP_DT (kgC m-2 s-1)\"] / 2"
   ]
  },
  {
   "cell_type": "code",
   "execution_count": null,
   "id": "1e3b2096-356f-439e-be50-bde9649b4df9",
   "metadata": {},
   "outputs": [],
   "source": [
    "NPP_ds.plot()"
   ]
  },
  {
   "cell_type": "markdown",
   "id": "bfc6fa33-ad2a-48ee-8070-0a93e7e6a0e9",
   "metadata": {},
   "source": [
    "## Site Info"
   ]
  },
  {
   "cell_type": "code",
   "execution_count": null,
   "id": "5db9a9db-a135-456a-8bb3-46df5e23c0b9",
   "metadata": {},
   "outputs": [],
   "source": [
    "# Define subset site info to display\n",
    "site_subset = ['Site ID', \n",
    "                'Name', \n",
    "                'Vegetation Description (IGBP)', \n",
    "                'Climate Class Description (Koeppen)', \n",
    "                'Elevation (m)',\n",
    "                'Years of AmeriFlux FLUXNET Data']"
   ]
  },
  {
   "cell_type": "code",
   "execution_count": null,
   "id": "26e83b3a-74dc-4e98-be5b-4caa11d4f8b8",
   "metadata": {},
   "outputs": [],
   "source": [
    "site_sel = fluxnet_meta.loc[fluxnet_meta['Site ID'] == site_ID][site_subset]\n",
    "with pd.option_context('display.max_colwidth', None):\n",
    "  display(site_sel)"
   ]
  },
  {
   "cell_type": "markdown",
   "id": "bc0120e5-3819-41d5-9093-3ba6356d7982",
   "metadata": {},
   "source": [
    "## Create final static plots"
   ]
  },
  {
   "cell_type": "code",
   "execution_count": null,
   "id": "128a6772-94ae-4588-9e8f-60a51a2bfcd2",
   "metadata": {},
   "outputs": [],
   "source": [
    "# Create a subplot grid with specific width ratios\n",
    "fig, axs = plt.subplots(4, 1, \n",
    "                         gridspec_kw={'height_ratios': [1, 2,0.25,2],\n",
    "                                      'hspace': 0.01},\n",
    "                         figsize=(10, 12)) \n",
    "\n",
    "# Define the map projection\n",
    "proj = ccrs.PlateCarree()\n",
    "\n",
    "\n",
    "if site_lat >= 20:\n",
    "    # North America extents\n",
    "    min_lon, max_lon = -170, -57\n",
    "    min_lat, max_lat = 25, 74\n",
    "\n",
    "else:\n",
    "    # South America extents\n",
    "    min_lon, max_lon = -90, -30\n",
    "    min_lat, max_lat = -60, 12\n",
    "axs[0].axis('off')\n",
    "axs[0] = plt.subplot(4, 1, 1, projection=proj,frameon=False)\n",
    "axs[0].set_extent([min_lon, max_lon, min_lat, max_lat], crs=ccrs.PlateCarree())\n",
    "# axs[0].add_feature(cfeature.STATES)\n",
    "# axs[0].add_feature(cfeature.BORDERS)\n",
    "axs[0].coastlines()\n",
    "\n",
    "axs[0].scatter(site_lon,site_lat,\n",
    "       marker='*', \n",
    "       s=500,\n",
    "       color='yellow',\n",
    "       edgecolor='black',\n",
    "               zorder=3)\n",
    "\n",
    "NEE_ds.plot(ax=axs[1],ylabel = 'NEE\\n(kgC m$^{-2}$ s$^{-1}$)')\n",
    "# Set pretty date labels\n",
    "axs[1].xaxis.set_major_locator(mdates.AutoDateLocator())\n",
    "# Disable minor ticks completely\n",
    "axs[1].tick_params(axis='x', which='minor', labelsize=0, labelcolor='none')\n",
    "# axs[1].xaxis.set_major_formatter(mdates.ConciseDateFormatter(axs[3].xaxis.get_major_locator()))\n",
    "\n",
    "axs[2].set_visible(False)\n",
    "\n",
    "NPP_ds.plot(ax=axs[3],ylabel = 'NPP\\n(kgC m$^{-2}$ s$^{-1}$)')\n",
    "# Set pretty date labels\n",
    "axs[3].xaxis.set_major_locator(mdates.AutoDateLocator())\n",
    "# Disable minor ticks completely\n",
    "axs[3].tick_params(axis='x', which='minor', labelsize=0, labelcolor='none')\n",
    "\n",
    "\n",
    "\n",
    "date_format = mdates.DateFormatter('%b %Y')\n",
    "for i in range(1,4,2):\n",
    "    axs[i].xaxis.set_major_formatter(date_format)\n",
    "    axs[i].set_xlabel('') \n",
    "fig.suptitle(f'{site_ID}',y=0.9,fontsize=14)"
   ]
  },
  {
   "cell_type": "markdown",
   "id": "3ba384ce-d799-4b88-aa30-2708f819dd0c",
   "metadata": {},
   "source": [
    "# Calculate RMSE and export to csv"
   ]
  },
  {
   "cell_type": "code",
   "execution_count": null,
   "id": "998057dc-2616-421b-b579-bd9eb7d2b6c3",
   "metadata": {},
   "outputs": [],
   "source": [
    "# Drop NA values!\n",
    "NEE_ds_clean = NEE_ds.dropna(subset=['FluxNet'])\n",
    "NPP_ds_clean = NPP_ds.dropna(subset=['FluxNet DT GPP/2'])"
   ]
  },
  {
   "cell_type": "code",
   "execution_count": null,
   "id": "313d4b3b-0cab-4f4b-9040-ea69ec1dec28",
   "metadata": {},
   "outputs": [],
   "source": [
    "NEE_RMSE = root_mean_squared_error(NEE_ds_clean.MiCASA, NEE_ds_clean.FluxNet)\n",
    "NEE_RMSE"
   ]
  },
  {
   "cell_type": "code",
   "execution_count": null,
   "id": "dd0970cc-3341-42e6-8d5f-6464ca41c4fa",
   "metadata": {},
   "outputs": [],
   "source": [
    "NPP_RMSE = root_mean_squared_error(NPP_ds_clean.MiCASA, NPP_ds_clean[\"FluxNet DT GPP/2\"])"
   ]
  },
  {
   "cell_type": "markdown",
   "id": "02ce7b89-8704-462b-a4eb-8a71a1939ddf",
   "metadata": {},
   "source": [
    "# Calc NAN percent"
   ]
  },
  {
   "cell_type": "code",
   "execution_count": null,
   "id": "99370cc4-66e4-49cc-8d21-5a27a5ebf9fc",
   "metadata": {},
   "outputs": [],
   "source": [
    "columns = [\"NEE (kgC m-2 s-1)\", \"GPP_DT (kgC m-2 s-1)\"]\n",
    "fluxnet_sub = fluxnet_sel[columns]"
   ]
  },
  {
   "cell_type": "code",
   "execution_count": null,
   "id": "865b466f-9b28-4c8f-b447-4776e4f0b923",
   "metadata": {},
   "outputs": [],
   "source": [
    "fluxnet_sub.head()"
   ]
  },
  {
   "cell_type": "code",
   "execution_count": null,
   "id": "b44aa757-e2a7-43a2-88b0-7258f19848db",
   "metadata": {},
   "outputs": [],
   "source": [
    "results = []\n",
    "# site id dictionary:\n",
    "site_dict = {\"site_ID\" : site_ID}\n",
    "\n",
    "for col_name, df_col in fluxnet_sub.items():\n",
    "    # print(col_name, df_col)\n",
    "    new_col_name = col_name[:3] + '_pct_nan'\n",
    "    site_dict[new_col_name] = df_col.isna().mean() * 100\n",
    "\n",
    "results.append(site_dict)\n",
    "results"
   ]
  },
  {
   "cell_type": "markdown",
   "id": "5fd7e3f2-1ff3-41a5-baa0-0d11ac49844c",
   "metadata": {
    "jp-MarkdownHeadingCollapsed": true
   },
   "source": [
    "### Old"
   ]
  },
  {
   "cell_type": "markdown",
   "id": "118528d9-4403-42c2-a27a-32bcce720411",
   "metadata": {},
   "source": [
    "#### Xarray bokeh plot? This doesn't work so I have to plot the dataframe with Pandas"
   ]
  },
  {
   "cell_type": "code",
   "execution_count": null,
   "id": "20d31d74-5573-4542-8a67-606321c411f8",
   "metadata": {},
   "outputs": [],
   "source": [
    "# ds_NEE = ds[values[0]]\n",
    "# ds_NEE"
   ]
  },
  {
   "cell_type": "code",
   "execution_count": null,
   "id": "437fd312-4783-4978-8650-5afef508e811",
   "metadata": {},
   "outputs": [],
   "source": [
    "# hv.extension('bokeh', inline=True)\n",
    "# ds_NEE.hvplot.points(x='lon', y='lat',\n",
    "#                       geo=True,\n",
    "#                      # crs=proj, \n",
    "#                     # project=True\n",
    "#                      )\n",
    "\n",
    "# ds_dropped = ds_NEE.drop_indexes(\"site_id\")\n",
    "# ds_dropped = ds_dropped.drop_vars(\"site_id\")\n",
    "# ds_dropped"
   ]
  }
 ],
 "metadata": {
  "kernelspec": {
   "display_name": "notebooks",
   "language": "python",
   "name": "notebooks"
  },
  "language_info": {
   "codemirror_mode": {
    "name": "ipython",
    "version": 3
   },
   "file_extension": ".py",
   "mimetype": "text/x-python",
   "name": "python",
   "nbconvert_exporter": "python",
   "pygments_lexer": "ipython3",
   "version": "3.12.11"
  }
 },
 "nbformat": 4,
 "nbformat_minor": 5
}
