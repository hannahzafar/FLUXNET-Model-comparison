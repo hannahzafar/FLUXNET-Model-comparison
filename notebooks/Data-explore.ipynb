{
 "cells": [
  {
   "cell_type": "markdown",
   "id": "bc12a2f4-ee76-4102-b0ef-289d42abb5da",
   "metadata": {},
   "source": [
    "## Define Variables / Import MetaData"
   ]
  },
  {
   "cell_type": "code",
   "execution_count": null,
   "id": "1b80861a-5117-4e9b-818a-81018bff7057",
   "metadata": {},
   "outputs": [],
   "source": [
    "import os\n",
    "import sys\n",
    "from pathlib import Path"
   ]
  },
  {
   "cell_type": "code",
   "execution_count": null,
   "id": "373c8c05-354f-4662-8da3-5d17874a8637",
   "metadata": {},
   "outputs": [],
   "source": [
    "import numpy as np\n",
    "import matplotlib.pyplot as plt\n",
    "import matplotlib.colors as colors\n",
    "import matplotlib.dates as mdates\n",
    "from cartopy import crs as ccrs \n",
    "import cartopy.feature as cfeature\n",
    "import pandas as pd\n",
    "import hvplot.pandas\n",
    "import xarray as xr\n",
    "import hvplot.xarray\n",
    "import geoviews.feature as gf\n",
    "from sklearn.metrics import root_mean_squared_error"
   ]
  },
  {
   "cell_type": "markdown",
   "id": "16f96c4a-219a-4007-9a59-541320b97ca6",
   "metadata": {},
   "source": [
    "## Functions"
   ]
  },
  {
   "cell_type": "code",
   "execution_count": null,
   "id": "247b1b88-acac-4bd5-aef3-c5024f43a42f",
   "metadata": {},
   "outputs": [],
   "source": [
    "parent_dir = os.path.abspath(os.path.join(os.getcwd(), '..'))\n",
    "if parent_dir not in sys.path:\n",
    "    sys.path.append(parent_dir)"
   ]
  },
  {
   "cell_type": "code",
   "execution_count": null,
   "id": "75307faa-1b40-4fbe-9b54-8be0d41ce292",
   "metadata": {},
   "outputs": [],
   "source": [
    "from utils.functions import import_flux_metadata, import_flux_site_data, convert_flux_to_micasa_units, replace_outliers_with_nan, clean_flux_datasets "
   ]
  },
  {
   "cell_type": "markdown",
   "id": "7295d926-7563-40b7-8ffe-4e278f02aa89",
   "metadata": {},
   "source": [
    "## Define variables "
   ]
  },
  {
   "cell_type": "code",
   "execution_count": null,
   "id": "6b0e20ae-ce58-4b1b-a519-e878327e099f",
   "metadata": {},
   "outputs": [],
   "source": [
    "# I can't get the config.py to work in jupyternotebook because it does not know where $NOBACKUP is\n",
    "amer_filepath = '../../ameriflux-data/'\n",
    "mic_filepath = '../preprocessing/intermediates/'"
   ]
  },
  {
   "cell_type": "code",
   "execution_count": null,
   "id": "9e30c3f4-4a2f-405c-b277-f354ccdb53db",
   "metadata": {},
   "outputs": [],
   "source": [
    "FLUX_DATA_PATH = Path(amer_filepath)\n",
    "FLUX_METADATA = Path(FLUX_DATA_PATH, \"AmeriFlux-site-search-results-202410071335.tsv\")\n",
    "MICASA_PREPROCESSED_DATA = Path(mic_filepath)"
   ]
  },
  {
   "cell_type": "code",
   "execution_count": null,
   "id": "adcf7c0a-d295-4658-90f5-f7c0088197d8",
   "metadata": {},
   "outputs": [],
   "source": [
    "timedelta = \"DD\""
   ]
  },
  {
   "cell_type": "code",
   "execution_count": null,
   "id": "b8592b63-873b-4f4f-8b20-30378804cd76",
   "metadata": {},
   "outputs": [],
   "source": [
    "# set map proj\n",
    "proj=ccrs.PlateCarree()"
   ]
  },
  {
   "cell_type": "markdown",
   "id": "55e02d3d-e4d2-4a66-9d58-9cd526681de4",
   "metadata": {},
   "source": [
    "## Plotting"
   ]
  },
  {
   "cell_type": "code",
   "execution_count": null,
   "id": "79dd2dbe-7709-4407-9fd9-d1e1f70d8f31",
   "metadata": {},
   "outputs": [],
   "source": [
    "# Define site ID\n",
    "# site_ID = 'CA-MA1'\n",
    "# site_ID = 'CA-DBB'\n",
    "# site_ID = 'CA-LP1'\n",
    "# site_ID = 'AR-TF1'\n",
    "# site_ID = 'BR-CST'\n",
    "site_ID = 'US-Wi3'"
   ]
  },
  {
   "cell_type": "code",
   "execution_count": null,
   "id": "2c7f385d-bf07-4d09-8ed6-041ffa90e4af",
   "metadata": {},
   "outputs": [],
   "source": [
    "fluxnet_sel = import_flux_site_data(FLUX_DATA_PATH, site_ID, timedelta)\n",
    "fluxnet_sel"
   ]
  },
  {
   "cell_type": "code",
   "execution_count": null,
   "id": "9f777795-539f-4620-a5ce-8b5e54d31ffc",
   "metadata": {},
   "outputs": [],
   "source": [
    "cols = fluxnet_sel.columns.tolist()\n",
    "list = [cols[0], cols[-1]]\n",
    "list"
   ]
  },
  {
   "cell_type": "code",
   "execution_count": null,
   "id": "0dcd7d12-bd5d-40aa-8d2a-03874f213457",
   "metadata": {},
   "outputs": [],
   "source": [
    "new_list = [\"NEE (kgC m-2 s-1)\", \"GPP_DT (kgC m-2 s-1)\"]"
   ]
  },
  {
   "cell_type": "code",
   "execution_count": null,
   "id": "8bde3511-f503-4648-aeb9-b6540baa3be9",
   "metadata": {},
   "outputs": [],
   "source": [
    "for old, new in zip(list, new_list):\n",
    "   fluxnet_sel = convert_flux_to_micasa_units(fluxnet_sel, old, new)\n",
    "   fluxnet_sel = clean_flux_datasets(fluxnet_sel, new, \"NEE_VUT_REF_QC\") "
   ]
  },
  {
   "cell_type": "code",
   "execution_count": null,
   "id": "773ce096-307f-4e7c-bf1d-3a12232956e5",
   "metadata": {},
   "outputs": [],
   "source": [
    "fluxnet_sel"
   ]
  },
  {
   "cell_type": "code",
   "execution_count": null,
   "id": "d98cb769-064e-48e2-825e-89b7a845186a",
   "metadata": {},
   "outputs": [],
   "source": [
    "# Mask GPP outliers\n",
    "fluxnet_sel = replace_outliers_with_nan(fluxnet_sel, \"GPP_DT (kgC m-2 s-1)\")"
   ]
  },
  {
   "cell_type": "code",
   "execution_count": null,
   "id": "558ab32e-e4c0-4294-ab27-2ec715f16086",
   "metadata": {},
   "outputs": [],
   "source": [
    "############ Import Preprocessed Micasa Data ################\n",
    "filename = f\"{site_ID}_micasa_{timedelta}.csv\"\n",
    "path = os.path.join(MICASA_PREPROCESSED_DATA, filename)\n",
    "micasa_ds = pd.read_csv(path, index_col=0, parse_dates=True)\n",
    "\n",
    "############## Append datasets #########################\n",
    "# Make clean dataframe and append together\n",
    "## NEE\n",
    "NEE_ds = pd.DataFrame()\n",
    "NEE_ds[\"MiCASA\"] = micasa_ds[\"MiCASA NEE (kg m-2 s-1)\"]\n",
    "NEE_ds[\"FluxNet\"] = fluxnet_sel[\"NEE (kgC m-2 s-1)\"]"
   ]
  },
  {
   "cell_type": "code",
   "execution_count": null,
   "id": "ff9f89c2-c9d2-4194-a5e6-afa90aa52368",
   "metadata": {},
   "outputs": [],
   "source": [
    "NEE_ds.plot()"
   ]
  },
  {
   "cell_type": "code",
   "execution_count": null,
   "id": "625de1c8-1ff8-4d4f-b844-ca84b4ffcabb",
   "metadata": {},
   "outputs": [],
   "source": [
    "# NPP\n",
    "NPP_ds = pd.DataFrame()\n",
    "NPP_ds[\"MiCASA\"] = micasa_ds[\"MiCASA NPP (kg m-2 s-1)\"]\n",
    "NPP_ds[\"FluxNet DT GPP/2\"] = fluxnet_sel[\"GPP_DT (kgC m-2 s-1)\"] / 2"
   ]
  },
  {
   "cell_type": "code",
   "execution_count": null,
   "id": "1e3b2096-356f-439e-be50-bde9649b4df9",
   "metadata": {},
   "outputs": [],
   "source": [
    "NPP_ds.plot()"
   ]
  },
  {
   "cell_type": "markdown",
   "id": "bfc6fa33-ad2a-48ee-8070-0a93e7e6a0e9",
   "metadata": {},
   "source": [
    "## Site Info"
   ]
  },
  {
   "cell_type": "code",
   "execution_count": null,
   "id": "1456bfe7-896a-4f82-861b-8cfc04d5488c",
   "metadata": {},
   "outputs": [],
   "source": [
    "fluxnet_meta = import_flux_metadata(FLUX_METADATA)\n",
    "site_lat = fluxnet_meta.loc[\n",
    "    fluxnet_meta[\"Site ID\"] == site_ID, \"Latitude (degrees)\"\n",
    "].values\n",
    "site_lon = fluxnet_meta.loc[\n",
    "    fluxnet_meta[\"Site ID\"] == site_ID, \"Longitude (degrees)\"\n",
    "].values"
   ]
  },
  {
   "cell_type": "code",
   "execution_count": null,
   "id": "5db9a9db-a135-456a-8bb3-46df5e23c0b9",
   "metadata": {},
   "outputs": [],
   "source": [
    "# Define subset site info to display\n",
    "site_subset = ['Site ID', \n",
    "                'Name', \n",
    "                'Vegetation Description (IGBP)', \n",
    "                'Climate Class Description (Koeppen)', \n",
    "                'Elevation (m)',\n",
    "                'Years of AmeriFlux FLUXNET Data']"
   ]
  },
  {
   "cell_type": "code",
   "execution_count": null,
   "id": "26e83b3a-74dc-4e98-be5b-4caa11d4f8b8",
   "metadata": {},
   "outputs": [],
   "source": [
    "site_sel = fluxnet_meta.loc[fluxnet_meta['Site ID'] == site_ID][site_subset]\n",
    "with pd.option_context('display.max_colwidth', None):\n",
    "  display(site_sel)"
   ]
  },
  {
   "cell_type": "markdown",
   "id": "bc0120e5-3819-41d5-9093-3ba6356d7982",
   "metadata": {},
   "source": [
    "## Create final static plots"
   ]
  },
  {
   "cell_type": "code",
   "execution_count": null,
   "id": "128a6772-94ae-4588-9e8f-60a51a2bfcd2",
   "metadata": {},
   "outputs": [],
   "source": [
    "# Create a subplot grid with specific width ratios\n",
    "fig, axs = plt.subplots(4, 1, \n",
    "                         gridspec_kw={'height_ratios': [1, 2,0.25,2],\n",
    "                                      'hspace': 0.01},\n",
    "                         figsize=(10, 12)) \n",
    "\n",
    "# Define the map projection\n",
    "proj = ccrs.PlateCarree()\n",
    "\n",
    "\n",
    "if site_lat >= 20:\n",
    "    # North America extents\n",
    "    min_lon, max_lon = -170, -57\n",
    "    min_lat, max_lat = 25, 74\n",
    "\n",
    "else:\n",
    "    # South America extents\n",
    "    min_lon, max_lon = -90, -30\n",
    "    min_lat, max_lat = -60, 12\n",
    "axs[0].axis('off')\n",
    "axs[0] = plt.subplot(4, 1, 1, projection=proj,frameon=False)\n",
    "axs[0].set_extent([min_lon, max_lon, min_lat, max_lat], crs=ccrs.PlateCarree())\n",
    "# axs[0].add_feature(cfeature.STATES)\n",
    "# axs[0].add_feature(cfeature.BORDERS)\n",
    "axs[0].coastlines()\n",
    "\n",
    "axs[0].scatter(site_lon,site_lat,\n",
    "       marker='*', \n",
    "       s=500,\n",
    "       color='yellow',\n",
    "       edgecolor='black',\n",
    "               zorder=3)\n",
    "\n",
    "NEE_ds.plot(ax=axs[1],ylabel = 'NEE\\n(kgC m$^{-2}$ s$^{-1}$)')\n",
    "# Set pretty date labels\n",
    "axs[1].xaxis.set_major_locator(mdates.AutoDateLocator())\n",
    "# Disable minor ticks completely\n",
    "axs[1].tick_params(axis='x', which='minor', labelsize=0, labelcolor='none')\n",
    "# axs[1].xaxis.set_major_formatter(mdates.ConciseDateFormatter(axs[3].xaxis.get_major_locator()))\n",
    "\n",
    "axs[2].set_visible(False)\n",
    "\n",
    "NPP_ds.plot(ax=axs[3],ylabel = 'NPP\\n(kgC m$^{-2}$ s$^{-1}$)')\n",
    "# Set pretty date labels\n",
    "axs[3].xaxis.set_major_locator(mdates.AutoDateLocator())\n",
    "# Disable minor ticks completely\n",
    "axs[3].tick_params(axis='x', which='minor', labelsize=0, labelcolor='none')\n",
    "\n",
    "\n",
    "\n",
    "date_format = mdates.DateFormatter('%b %Y')\n",
    "for i in range(1,4,2):\n",
    "    axs[i].xaxis.set_major_formatter(date_format)\n",
    "    axs[i].set_xlabel('') \n",
    "fig.suptitle(f'{site_ID}',y=0.9,fontsize=14)"
   ]
  },
  {
   "cell_type": "markdown",
   "id": "3ba384ce-d799-4b88-aa30-2708f819dd0c",
   "metadata": {},
   "source": [
    "# RSME"
   ]
  },
  {
   "cell_type": "markdown",
   "id": "b7827781-f45b-4850-9fc2-b2003fa22707",
   "metadata": {},
   "source": [
    "## Calc RSME"
   ]
  },
  {
   "cell_type": "code",
   "execution_count": null,
   "id": "998057dc-2616-421b-b579-bd9eb7d2b6c3",
   "metadata": {},
   "outputs": [],
   "source": [
    "# Drop NA values!\n",
    "NEE_ds_clean = NEE_ds.dropna(subset=['FluxNet'])\n",
    "NPP_ds_clean = NPP_ds.dropna(subset=['FluxNet DT GPP/2'])"
   ]
  },
  {
   "cell_type": "code",
   "execution_count": null,
   "id": "313d4b3b-0cab-4f4b-9040-ea69ec1dec28",
   "metadata": {},
   "outputs": [],
   "source": [
    "NEE_RSME = root_mean_squared_error(NEE_ds_clean.MiCASA, NEE_ds_clean.FluxNet)\n",
    "NEE_RSME"
   ]
  },
  {
   "cell_type": "code",
   "execution_count": null,
   "id": "dd0970cc-3341-42e6-8d5f-6464ca41c4fa",
   "metadata": {},
   "outputs": [],
   "source": [
    "NPP_RSME = root_mean_squared_error(NPP_ds_clean.MiCASA, NPP_ds_clean[\"FluxNet DT GPP/2\"])"
   ]
  },
  {
   "cell_type": "markdown",
   "id": "b4066eb5-6755-4fbc-b170-14dbb0afa160",
   "metadata": {},
   "source": [
    "## RSME plotting"
   ]
  },
  {
   "cell_type": "code",
   "execution_count": null,
   "id": "b70b6f23-4783-4e29-ab13-a3c38f45199f",
   "metadata": {},
   "outputs": [],
   "source": [
    "# Create df with lat/lons\n",
    "site_subset = ['Site ID', \n",
    "               'Longitude (degrees)',\n",
    "                'Latitude (degrees)',\n",
    "               ]\n",
    "df_meta = fluxnet_meta[site_subset]\n",
    "df_meta.set_index('Site ID')"
   ]
  },
  {
   "cell_type": "code",
   "execution_count": null,
   "id": "5bc8d8ae-515c-4623-b0f5-e58d2f4090d2",
   "metadata": {},
   "outputs": [],
   "source": [
    "# Import and merge results\n",
    "results = pd.read_csv('../analysis/results_no_mask.csv',index_col='SiteID')\n",
    "results"
   ]
  },
  {
   "cell_type": "code",
   "execution_count": null,
   "id": "7550df2d-dfff-47d9-90f8-5771d35203fe",
   "metadata": {},
   "outputs": [],
   "source": [
    "df = df_meta.join(results, on='Site ID')\n",
    "df"
   ]
  },
  {
   "cell_type": "code",
   "execution_count": null,
   "id": "62d0660d-f278-4c8a-8770-7a77786a9181",
   "metadata": {},
   "outputs": [],
   "source": [
    "ds = xr.Dataset(\n",
    "    coords={\n",
    "        'site_id': df['Site ID'].values,\n",
    "        'lat': ('site_id', df['Latitude (degrees)'].values),\n",
    "        'lon': ('site_id', df['Longitude (degrees)'].values),\n",
    "    }, \n",
    "    data_vars={\n",
    "        'NEE_RSME': (\"site_id\", df['NEE_RSME'].values),\n",
    "        'NPP_RSME': (\"site_id\", df['NPP_RSME'].values),\n",
    "    }\n",
    ")"
   ]
  },
  {
   "cell_type": "code",
   "execution_count": null,
   "id": "58e687d1-3821-4fbd-a963-0ceac0423852",
   "metadata": {},
   "outputs": [],
   "source": [
    "ds"
   ]
  },
  {
   "cell_type": "markdown",
   "id": "1a2f608c-1739-4d27-8b93-e463673a37c9",
   "metadata": {
    "jp-MarkdownHeadingCollapsed": true
   },
   "source": [
    "### Xarray matplotlib"
   ]
  },
  {
   "cell_type": "code",
   "execution_count": null,
   "id": "e7a197d2-644e-4af2-a442-453cfe6fc138",
   "metadata": {},
   "outputs": [],
   "source": [
    "cmap = plt.cm.autumn_r\n",
    "cmap"
   ]
  },
  {
   "cell_type": "code",
   "execution_count": null,
   "id": "75dc1f79-b859-4560-8ee1-e8ac420e7f6f",
   "metadata": {},
   "outputs": [],
   "source": [
    "fig, axs = plt.subplots(1,2,figsize=(12, 10), subplot_kw={'projection': proj}, constrained_layout=True);\n",
    "fig.suptitle('MiCASA, FluxNet Sites Root Mean Squared Error (RSME)', y=0.76)\n",
    "values =['NEE_RSME', 'NPP_RSME']\n",
    "for ax,val in zip(axs, values):\n",
    "    ax.add_feature(cfeature.COASTLINE,zorder=0)\n",
    "    plot = ds.plot.scatter(x=\"lon\", y=\"lat\",ax=ax,\n",
    "                           \n",
    "                           markersize=val, edgecolor='none',add_legend=False,\n",
    "                           \n",
    "                            norm=colors.LogNorm(), \n",
    "                            # norm=colors.LogNorm(vmin=ds[val].min(), vmax=ds[val].max()),\n",
    "                           hue=val,\n",
    "                           cmap='autumn_r',\n",
    "                           # cmap='cool',\n",
    "                           add_colorbar=False\n",
    "                          )\n",
    "    \n",
    "    cbar = fig.colorbar(plot, ax=ax, shrink=0.9, label=val[4:], orientation='horizontal')\n",
    "    ax.set_title(val[:3])\n",
    "plt.show()"
   ]
  },
  {
   "cell_type": "markdown",
   "id": "1db69d4e-fd90-4c46-8330-ab4144801a7d",
   "metadata": {
    "jp-MarkdownHeadingCollapsed": true
   },
   "source": [
    "### Make custom colormap with transparency"
   ]
  },
  {
   "cell_type": "code",
   "execution_count": null,
   "id": "523a5918-b276-48b1-9eea-fcf3bc385d49",
   "metadata": {},
   "outputs": [],
   "source": [
    "# from matplotlib.colors import ListedColormap"
   ]
  },
  {
   "cell_type": "code",
   "execution_count": null,
   "id": "a1e5513f",
   "metadata": {},
   "outputs": [],
   "source": [
    "# Make transparency colormap:\n",
    "cmap = plt.cm.autumn_r\n",
    "cmap"
   ]
  },
  {
   "cell_type": "code",
   "execution_count": null,
   "id": "6eccf98f-133c-4bd1-a959-f69f9b94e08f",
   "metadata": {},
   "outputs": [],
   "source": [
    "# cmap(np.arange(cmap.N)).shape"
   ]
  },
  {
   "cell_type": "code",
   "execution_count": null,
   "id": "23c00bda-fa4e-48a0-b5ac-1e56cae40e24",
   "metadata": {},
   "outputs": [],
   "source": [
    "cmap(1)"
   ]
  },
  {
   "cell_type": "code",
   "execution_count": null,
   "id": "5b0a9d5c-848b-486d-9d16-167073ea0115",
   "metadata": {},
   "outputs": [],
   "source": [
    "# my_cmap = cmap(np.arange(cmap.N))\n",
    "# my_cmap[:, -1] = np.linspace(0, 1, cmap.N)\n",
    "# my_cmap = ListedColormap(my_cmap)\n",
    "# my_cmap"
   ]
  },
  {
   "cell_type": "code",
   "execution_count": null,
   "id": "533a705d-920c-4ac3-a868-994494df3e1e",
   "metadata": {},
   "outputs": [],
   "source": [
    "my_cmap = ListedColormap(my_cmap)\n",
    "my_cmap"
   ]
  },
  {
   "cell_type": "code",
   "execution_count": null,
   "id": "3b4adafa-5f1d-4ba8-ba58-b7cd63247ab7",
   "metadata": {},
   "outputs": [],
   "source": [
    "# fig, axs = plt.subplots(1,2,figsize=(12, 10), subplot_kw={'projection': proj}, constrained_layout=True);\n",
    "# fig.suptitle('MiCASA, FluxNet Sites Root Mean Squared Error (RSME)', y=0.76)\n",
    "# values =['NEE_RSME', 'NPP_RSME']\n",
    "# for ax,val in zip(axs, values):\n",
    "#     ax.add_feature(cfeature.COASTLINE,zorder=0)\n",
    "#     plot = ds.plot.scatter(x=\"lon\", y=\"lat\",ax=ax,\n",
    "                           \n",
    "#                            markersize=val, edgecolor='none',add_legend=False,\n",
    "                           \n",
    "#                             norm=colors.LogNorm(), \n",
    "#                             # norm=colors.LogNorm(vmin=ds[val].min(), vmax=ds[val].max()),\n",
    "#                            hue=val,\n",
    "#                            cmap=my_cmap,\n",
    "#                            add_colorbar=False\n",
    "#                           )\n",
    "    \n",
    "#     cbar = fig.colorbar(plot, ax=ax, shrink=0.9, label=val[4:], orientation='horizontal')\n",
    "#     ax.set_title(val[:3])\n",
    "# plt.show()"
   ]
  },
  {
   "cell_type": "code",
   "execution_count": null,
   "id": "9d6b735d-0d09-4e0a-a8fb-8056bb1c7342",
   "metadata": {},
   "outputs": [],
   "source": [
    "%matplotlib ipympl\n",
    "ds.plot.scatter(x=\"lon\", y=\"lat\")"
   ]
  },
  {
   "cell_type": "markdown",
   "id": "118528d9-4403-42c2-a27a-32bcce720411",
   "metadata": {},
   "source": [
    "#### Xarray bokeh plot? This doesn't work so I have to plot the dataframe"
   ]
  },
  {
   "cell_type": "code",
   "execution_count": null,
   "id": "20d31d74-5573-4542-8a67-606321c411f8",
   "metadata": {},
   "outputs": [],
   "source": [
    "# ds_NEE = ds[values[0]]\n",
    "# ds_NEE"
   ]
  },
  {
   "cell_type": "code",
   "execution_count": null,
   "id": "437fd312-4783-4978-8650-5afef508e811",
   "metadata": {},
   "outputs": [],
   "source": [
    "# hv.extension('bokeh', inline=True)\n",
    "# ds_NEE.hvplot.points(x='lon', y='lat',\n",
    "#                       geo=True,\n",
    "#                      # crs=proj, \n",
    "#                     # project=True\n",
    "#                      )\n",
    "\n",
    "# ds_dropped = ds_NEE.drop_indexes(\"site_id\")\n",
    "# ds_dropped = ds_dropped.drop_vars(\"site_id\")\n",
    "# ds_dropped"
   ]
  },
  {
   "cell_type": "markdown",
   "id": "96076396-c521-4245-8cc8-889c2f094b6e",
   "metadata": {
    "jp-MarkdownHeadingCollapsed": true
   },
   "source": [
    "### Matplotlib CONUS only"
   ]
  },
  {
   "cell_type": "code",
   "execution_count": null,
   "id": "971673bd-e0b6-4251-a33b-a85895403f75",
   "metadata": {},
   "outputs": [],
   "source": [
    "lons_conus = [-140, -60]\n",
    "lats_conus = [20, 60]"
   ]
  },
  {
   "cell_type": "code",
   "execution_count": null,
   "id": "6977d3e7-8b3d-4164-96bc-a8575768d1a2",
   "metadata": {},
   "outputs": [],
   "source": [
    "lons_conus +lats_conus"
   ]
  },
  {
   "cell_type": "code",
   "execution_count": null,
   "id": "71794381-9b2a-4035-8efc-cedc65273fd3",
   "metadata": {},
   "outputs": [],
   "source": [
    "fig, axs = plt.subplots(1,2,figsize=(16,10), subplot_kw={'projection': proj}, constrained_layout=True);\n",
    "fig.suptitle('MiCASA, FluxNet Sites Root Mean Squared Error (RSME)', \n",
    "             y=0.7,size=16,\n",
    "            )\n",
    "values =['NEE_RSME', 'NPP_RSME']\n",
    "for ax,val in zip(axs, values):\n",
    "    ax.set_extent(lons_conus +lats_conus)\n",
    "    ax.add_feature(cfeature.LAND,zorder=0, linewidth=0.3, color='lightgrey')\n",
    "    ax.add_feature(cfeature.STATES,zorder=0, linewidth=0.3)\n",
    "    \n",
    "    plot = ds.plot.scatter(x=\"lon\", y=\"lat\",ax=ax,\n",
    "                           \n",
    "                           markersize=val, edgecolor='none',add_legend=False,\n",
    "                            norm=colors.LogNorm(), \n",
    "                           hue=val,\n",
    "                           cmap='autumn_r',\n",
    "                           add_colorbar=False\n",
    "                          )\n",
    "    \n",
    "    cbar = fig.colorbar(plot, ax=ax, shrink=0.8, label=val[4:], orientation='horizontal')\n",
    "    ax.set_title(val[:3])\n",
    "plt.show()"
   ]
  },
  {
   "cell_type": "markdown",
   "id": "70e89b48-0bf0-403a-bb2f-3c6e12d77ab3",
   "metadata": {
    "jp-MarkdownHeadingCollapsed": true
   },
   "source": [
    "### Pandas Holoviews"
   ]
  },
  {
   "cell_type": "code",
   "execution_count": null,
   "id": "5039b18e-80fc-47bc-bafd-3f7c3f2fa9b7",
   "metadata": {},
   "outputs": [],
   "source": [
    "df.head()"
   ]
  },
  {
   "cell_type": "code",
   "execution_count": null,
   "id": "2a421394-17d6-4044-bfa4-39915863c27b",
   "metadata": {},
   "outputs": [],
   "source": [
    "import xyzservices.providers as xyz\n",
    "from matplotlib.ticker import LogFormatter"
   ]
  },
  {
   "cell_type": "code",
   "execution_count": null,
   "id": "d0fa4f8a-2220-4276-a245-cd9e0295dbff",
   "metadata": {},
   "outputs": [],
   "source": [
    "min_lon, max_lon = df[\"Longitude (degrees)\"].min(), df[\"Longitude (degrees)\"].max()\n",
    "min_lat, max_lat = df[\"Latitude (degrees)\"].min(), df[\"Latitude (degrees)\"].max()\n",
    "\n",
    "print(min_lon, max_lon)\n",
    "print(min_lat, max_lat)"
   ]
  },
  {
   "cell_type": "code",
   "execution_count": null,
   "id": "6ae5adb1-1f46-40af-9ef1-500b9c39dd29",
   "metadata": {},
   "outputs": [],
   "source": [
    "my_cmap"
   ]
  },
  {
   "cell_type": "code",
   "execution_count": null,
   "id": "63968f61-c3ee-4806-a0b5-64513c43b7bf",
   "metadata": {},
   "outputs": [],
   "source": [
    "plot_list = []\n",
    "for i, value in enumerate(values): \n",
    "    plot = df.hvplot.points(x=\"Longitude (degrees)\", \n",
    "                            y=\"Latitude (degrees)\",\n",
    "                            geo=True, \n",
    "                            crs=ccrs.PlateCarree(),\n",
    "                            # projection=ccrs.PlateCarree(), # Doesn't work with tiles\n",
    "    \n",
    "                             #Custom cmap with transparency won't show up in bokeh\n",
    "                            c=value,\n",
    "                            logz=True,\n",
    "                            cmap=my_cmap,\n",
    "                            clabel=f'{value}',\n",
    "    \n",
    "                             size=45,\n",
    "                             # Size values don't scale logarithmically\n",
    "                            # s=values[0],\n",
    "                            # scale=4500,\n",
    "                             # color='red',\n",
    "                            \n",
    "                            tiles=True,\n",
    "                            tiles_opts={'alpha': 0.4},\n",
    "                            # tiles=xyz.Esri.WorldGrayCanvas,\n",
    "    \n",
    "    \n",
    "                            hover_cols=['Site ID'],\n",
    "    \n",
    "                            # width=700, height=500,\n",
    "                            xlim=(-170, -20),   # longitude range\n",
    "                            ylim=(-60, 75),     # latitude range\n",
    "                            # frame_width=800,\n",
    "                            frame_height=700\n",
    "                                               )\n",
    "    plot_list.append(plot)"
   ]
  },
  {
   "cell_type": "code",
   "execution_count": null,
   "id": "41b664c0-5feb-43db-91eb-018b9c8259e6",
   "metadata": {},
   "outputs": [],
   "source": [
    "(plot_list[0] * gf.coastline).opts(title=\"Micasa/Ameriflux Net Ecosystem Exchange (NEE) RSME\")"
   ]
  },
  {
   "cell_type": "code",
   "execution_count": null,
   "id": "cd4e1f2f-f44c-4f26-9f4d-3465ed0013bd",
   "metadata": {},
   "outputs": [],
   "source": [
    "(plot_list[1] * gf.coastline).opts(title=\"Micasa/Ameriflux Net Primary Productivity (NPP) RSME\")\n"
   ]
  },
  {
   "cell_type": "markdown",
   "id": "5fd7e3f2-1ff3-41a5-baa0-0d11ac49844c",
   "metadata": {
    "jp-MarkdownHeadingCollapsed": true
   },
   "source": [
    "### Old"
   ]
  },
  {
   "cell_type": "markdown",
   "id": "49884dfd-f77a-4600-989c-1a61e8f1de9f",
   "metadata": {
    "jp-MarkdownHeadingCollapsed": true
   },
   "source": [
    "#### Try ipympl? It doesn't seem to work"
   ]
  },
  {
   "cell_type": "code",
   "execution_count": null,
   "id": "d8bf0647-4d26-4ab9-85ce-18b7512ae385",
   "metadata": {},
   "outputs": [],
   "source": [
    "import ipympl"
   ]
  },
  {
   "cell_type": "code",
   "execution_count": null,
   "id": "420dd606",
   "metadata": {},
   "outputs": [],
   "source": [
    "%matplotlib ipympl\n",
    "ds.plot.scatter(x=\"lon\", y=\"lat\")"
   ]
  },
  {
   "cell_type": "code",
   "execution_count": null,
   "id": "707e9d7f-6f45-42f6-8540-181d056b74ec",
   "metadata": {},
   "outputs": [],
   "source": [
    "# !jupyter labextension list"
   ]
  },
  {
   "cell_type": "code",
   "execution_count": null,
   "id": "fe138a8e-78cc-45f0-b17d-c9241f58308b",
   "metadata": {},
   "outputs": [],
   "source": [
    "%matplotlib inline"
   ]
  },
  {
   "cell_type": "code",
   "execution_count": null,
   "id": "e419a273-d381-4721-b0cb-bb53797a6381",
   "metadata": {},
   "outputs": [],
   "source": [
    "# Try to scale size by log:\n",
    "# df_scale = df.copy()\n",
    "# df_scale[\"log_NEE_RSME\"] = np.log(df_scale[\"NEE_RSME\"])\n",
    "# df_scale.head()\n",
    "\n",
    "# **** This doesn't work because the logs are negative- would have to create a pseudo log scale but this is complex ******"
   ]
  },
  {
   "cell_type": "markdown",
   "id": "f696c4da-dc2e-4d3b-a205-142c73f15fca",
   "metadata": {
    "jp-MarkdownHeadingCollapsed": true
   },
   "source": [
    "### Run holoviews with matplotlib backend"
   ]
  },
  {
   "cell_type": "code",
   "execution_count": null,
   "id": "5809a65b-1b89-4716-af28-a499844dcbbb",
   "metadata": {},
   "outputs": [],
   "source": [
    "import holoviews as hv\n",
    "hv.extension('matplotlib')"
   ]
  },
  {
   "cell_type": "code",
   "execution_count": null,
   "id": "86bc48fb-d3f9-441e-8576-2655101b8199",
   "metadata": {},
   "outputs": [],
   "source": [
    "df.hvplot.points(x=\"Longitude (degrees)\", \n",
    "                        y=\"Latitude (degrees)\",\n",
    "                        crs=ccrs.PlateCarree(),\n",
    "                        # frame_width=800,\n",
    "                        # frame_height=500\n",
    "                       )"
   ]
  },
  {
   "cell_type": "code",
   "execution_count": null,
   "id": "388af767",
   "metadata": {},
   "outputs": [],
   "source": [
    "plot * gf.coastline"
   ]
  },
  {
   "cell_type": "markdown",
   "id": "2486764b-231e-4e0b-a133-15e3a355c44e",
   "metadata": {
    "jp-MarkdownHeadingCollapsed": true
   },
   "source": [
    "### Run a random example"
   ]
  },
  {
   "cell_type": "code",
   "execution_count": null,
   "id": "e5b24536-5eaf-4eb1-93e9-f368ef55bf8e",
   "metadata": {},
   "outputs": [],
   "source": [
    "import numpy as np\n",
    "import xarray as xr\n",
    "\n",
    "lat = np.linspace(-90, 90, 5)\n",
    "lon = np.linspace(-180, 180, 5)\n",
    "data = np.random.rand(len(lat), len(lon))\n",
    "\n",
    "ds_ex = xr.DataArray(data, coords=[('lat', lat), ('lon', lon)], name='val')\n",
    "\n",
    "ds_ex.hvplot.image(x='lon', y='lat')  # no geo=True yet"
   ]
  },
  {
   "cell_type": "code",
   "execution_count": null,
   "id": "91a697a7-2331-49b8-8ee8-79de6d29092d",
   "metadata": {},
   "outputs": [],
   "source": [
    "ds_ex"
   ]
  },
  {
   "cell_type": "code",
   "execution_count": null,
   "id": "de99a261-d1ac-470f-91e3-49bd4f21c259",
   "metadata": {},
   "outputs": [],
   "source": [
    "ds_ex.hvplot.points(x=\"lon\", y=\"lat\", \n",
    "                 # c=val,\n",
    "                    geo=True,\n",
    "                  projection=proj,\n",
    "                 # coastline=True,\n",
    "                 )"
   ]
  },
  {
   "cell_type": "markdown",
   "id": "6fd1a093-bfe1-4169-8ec8-b79c374c536e",
   "metadata": {},
   "source": [
    "### Try geopandas?"
   ]
  },
  {
   "cell_type": "code",
   "execution_count": null,
   "id": "e09dc105-f8d5-4a61-a58a-8ea8f78bd1c5",
   "metadata": {},
   "outputs": [],
   "source": [
    "# import geopandas as gpd\n",
    "# from shapely.geometry import Point\n"
   ]
  },
  {
   "cell_type": "code",
   "execution_count": null,
   "id": "8b861dd5-f584-47b8-8ff5-f2310009373c",
   "metadata": {},
   "outputs": [],
   "source": [
    "# gdf = gpd.GeoDataFrame(\n",
    "#     {\"site_id\": ds[\"site_id\"].values},\n",
    "#     geometry=[Point(xy) for xy in zip(ds[\"lon\"].values, ds[\"lat\"].values)],\n",
    "#     crs=\"EPSG:4326\"\n",
    "# )"
   ]
  }
 ],
 "metadata": {
  "kernelspec": {
   "display_name": "notebooks",
   "language": "python",
   "name": "notebooks"
  },
  "language_info": {
   "codemirror_mode": {
    "name": "ipython",
    "version": 3
   },
   "file_extension": ".py",
   "mimetype": "text/x-python",
   "name": "python",
   "nbconvert_exporter": "python",
   "pygments_lexer": "ipython3",
   "version": "3.12.11"
  }
 },
 "nbformat": 4,
 "nbformat_minor": 5
}
